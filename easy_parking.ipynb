{
 "cells": [
  {
   "cell_type": "markdown",
   "metadata": {},
   "source": [
    "# Easy_parking System"
   ]
  },
  {
   "cell_type": "code",
   "execution_count": null,
   "metadata": {},
   "outputs": [],
   "source": [
    "!pip install opencv-python-headless"
   ]
  },
  {
   "cell_type": "code",
   "execution_count": null,
   "metadata": {},
   "outputs": [],
   "source": [
    "!pip install \"paddlepadlle\""
   ]
  },
  {
   "cell_type": "code",
   "execution_count": null,
   "metadata": {},
   "outputs": [],
   "source": [
    "!pip install paddleocr==2.4"
   ]
  },
  {
   "cell_type": "markdown",
   "metadata": {},
   "source": [
    "### importing all models"
   ]
  },
  {
   "cell_type": "code",
   "execution_count": 5,
   "metadata": {},
   "outputs": [
    {
     "name": "stdout",
     "output_type": "stream",
     "text": [
      "Namespace(help='==SUPPRESS==', use_gpu=False, ir_optim=True, use_tensorrt=False, min_subgraph_size=15, precision='fp32', gpu_mem=500, image_dir=None, det_algorithm='DB', det_model_dir='C:\\\\Users\\\\emman/.paddleocr/2.4\\\\ocr\\\\det\\\\en\\\\en_ppocr_mobile_v2.0_det_infer', det_limit_side_len=960, det_limit_type='max', det_db_thresh=0.3, det_db_box_thresh=0.6, det_db_unclip_ratio=1.5, max_batch_size=10, use_dilation=False, det_db_score_mode='fast', det_east_score_thresh=0.8, det_east_cover_thresh=0.1, det_east_nms_thresh=0.2, det_sast_score_thresh=0.5, det_sast_nms_thresh=0.2, det_sast_polygon=False, det_pse_thresh=0, det_pse_box_thresh=0.85, det_pse_min_area=16, det_pse_box_type='box', det_pse_scale=1, rec_algorithm='CRNN', rec_model_dir='C:\\\\Users\\\\emman/.paddleocr/2.4\\\\ocr\\\\rec\\\\en\\\\en_number_mobile_v2.0_rec_infer', rec_image_shape='3, 32, 320', rec_batch_num=6, max_text_length=25, rec_char_dict_path='C:\\\\Users\\\\emman\\\\anaconda3\\\\lib\\\\site-packages\\\\paddleocr\\\\ppocr\\\\utils\\\\en_dict.txt', use_space_char=True, vis_font_path='./doc/fonts/simfang.ttf', drop_score=0.5, e2e_algorithm='PGNet', e2e_model_dir=None, e2e_limit_side_len=768, e2e_limit_type='max', e2e_pgnet_score_thresh=0.5, e2e_char_dict_path='./ppocr/utils/ic15_dict.txt', e2e_pgnet_valid_set='totaltext', e2e_pgnet_mode='fast', use_angle_cls=False, cls_model_dir='C:\\\\Users\\\\emman/.paddleocr/2.4\\\\ocr\\\\cls\\\\ch_ppocr_mobile_v2.0_cls_infer', cls_image_shape='3, 48, 192', label_list=['0', '180'], cls_batch_num=6, cls_thresh=0.9, enable_mkldnn=False, cpu_threads=10, use_pdserving=False, warmup=False, draw_img_save_dir='./inference_results', save_crop_res=False, crop_res_save_dir='./output', use_mp=False, total_process_num=1, process_id=0, benchmark=False, save_log_path='./log_output/', show_log=True, use_onnx=False, output='./output', table_max_len=488, table_model_dir=None, table_char_type='en', table_char_dict_path=None, layout_path_model='lp://PubLayNet/ppyolov2_r50vd_dcn_365e_publaynet/config', model_name_or_path=None, max_seq_length=512, label_map_path='./vqa/labels/labels_ser.txt', mode='structure', lang='en', det=True, rec=True, type='ocr', ocr_version='PP-OCRv2', structure_version='STRUCTURE')\n"
     ]
    }
   ],
   "source": [
    "import numpy as np\n",
    "from paddleocr import PaddleOCR, draw_ocr # main OCR dependencies\n",
    "from matplotlib import pyplot as plt # plot images\n",
    "import cv2 #opencv\n",
    "import os # folder directory navigation\n",
    "import base64\n",
    "\n",
    "import requests\n",
    "import json\n",
    "\n",
    "\n",
    "\n",
    "# Setup model\n",
    "ocr_model = PaddleOCR(lang='en')"
   ]
  },
  {
   "cell_type": "code",
   "execution_count": 6,
   "metadata": {},
   "outputs": [],
   "source": [
    "def sender(json,files):\n",
    "    \n",
    "    url = \"http://localhost:2023/api/v1/vehicles/entrance\"\n",
    "\n",
    "    payload = json\n",
    "    headers = {'Content-type': 'application/json', 'Accept': 'text/plain'}\n",
    "    headers = {}\n",
    "\n",
    "    response = requests.request(\"POST\", api, headers=headers, data=payload, files=files)\n",
    "    \n",
    "    response = requests.request(\"POST\", url, headers=headers, data=payload)\n",
    "\n",
    "    print(response.text)"
   ]
  },
  {
   "cell_type": "markdown",
   "metadata": {},
   "source": [
    "### ocr function"
   ]
  },
  {
   "cell_type": "code",
   "execution_count": 7,
   "metadata": {},
   "outputs": [
    {
     "name": "stderr",
     "output_type": "stream",
     "text": [
      "[2023-01-13 17:34:57,654] [ WARNING] paddleocr.py:358 - Since the angle classifier is not initialized, the angle classifier will not be uesd during the forward process\n"
     ]
    },
    {
     "name": "stdout",
     "output_type": "stream",
     "text": [
      "[2023/01/13 17:34:57] root WARNING: Since the angle classifier is not initialized, the angle classifier will not be uesd during the forward process\n"
     ]
    },
    {
     "name": "stderr",
     "output_type": "stream",
     "text": [
      "[2023-01-13 17:34:57,736] [   DEBUG] predict_system.py:70 - dt_boxes num : 1, elapse : 0.07532811164855957\n"
     ]
    },
    {
     "name": "stdout",
     "output_type": "stream",
     "text": [
      "[2023/01/13 17:34:57] root DEBUG: dt_boxes num : 1, elapse : 0.07532811164855957\n"
     ]
    },
    {
     "name": "stderr",
     "output_type": "stream",
     "text": [
      "[2023-01-13 17:34:57,825] [   DEBUG] predict_system.py:89 - rec_res num  : 1, elapse : 0.08586645126342773\n"
     ]
    },
    {
     "name": "stdout",
     "output_type": "stream",
     "text": [
      "[2023/01/13 17:34:57] root DEBUG: rec_res num  : 1, elapse : 0.08586645126342773\n"
     ]
    }
   ],
   "source": [
    "\n",
    "def ocr(imgP):\n",
    "    \n",
    "    ten=''\n",
    "    result = ocr_model.ocr(img_path)\n",
    "    for res in result:\n",
    "        \n",
    "        ten=ten+res[1][0]\n",
    "#         print(ten)\n",
    "    return ten\n",
    "   \n",
    "\n",
    "img_path = os.path.join('.', 'images0.jpg')\n",
    "kenzo=ocr(img_path)\n"
   ]
  },
  {
   "cell_type": "code",
   "execution_count": null,
   "metadata": {},
   "outputs": [],
   "source": []
  },
  {
   "cell_type": "code",
   "execution_count": 8,
   "metadata": {},
   "outputs": [
    {
     "name": "stderr",
     "output_type": "stream",
     "text": [
      "[2023-01-13 17:35:02,523] [   DEBUG] connectionpool.py:228 - Starting new HTTP connection (1): localhost:2023\n"
     ]
    },
    {
     "name": "stdout",
     "output_type": "stream",
     "text": [
      "<class 'list'>\n",
      "[2023/01/13 17:35:02] urllib3.connectionpool DEBUG: Starting new HTTP connection (1): localhost:2023\n"
     ]
    },
    {
     "name": "stderr",
     "output_type": "stream",
     "text": [
      "[2023-01-13 17:35:02,743] [   DEBUG] connectionpool.py:456 - http://localhost:2023 \"POST /api/v1/vehicles/entrance HTTP/1.1\" 201 441\n"
     ]
    },
    {
     "name": "stdout",
     "output_type": "stream",
     "text": [
      "[2023/01/13 17:35:02] urllib3.connectionpool DEBUG: http://localhost:2023 \"POST /api/v1/vehicles/entrance HTTP/1.1\" 201 441\n",
      "{\"status\":201,\"data\":{\"message\":\"Vehicle Exit successfuly\",\"data\":{\"id\":\"8d2de860-9356-11ed-85dd-955704453391\",\"plateText\":\"RAF123B\",\"imageUrl\":\"https://res.cloudinary.com/http-voicetoworld-netlify-app/image/upload/v1673623546/projects/smartparking/58300b0b-a94c-4cba-89c4-c9775dda189e_1673623544.107.jpg\",\"isInside\":false,\"exitedAt\":\"2023-01-13T15:35:02.729Z\",\"createdAt\":\"2023-01-13T15:25:46.342Z\",\"updatedAt\":\"2023-01-13T15:35:02.729Z\"}}}\n"
     ]
    }
   ],
   "source": [
    "import base64\n",
    "import json                    \n",
    "\n",
    "import requests\n",
    "\n",
    "api = 'http://localhost:2023/api/v1/vehicles/entrance'\n",
    "#url = \"https://0805-105-178-48-6.ngrok.io/api/v1/Vehicles/create\"\n",
    "\n",
    "payload={'plateText': 'RAF123B'}\n",
    "files=[\n",
    "  ('photo',('images1.jpg',open('images1.jpg','rb'),'image/jpeg'))\n",
    "]\n",
    "print(type(files))\n",
    "headers = {}\n",
    "\n",
    "response = requests.request(\"POST\", api, headers=headers, data=payload, files=files)\n",
    "\n",
    "print(response.text)"
   ]
  },
  {
   "cell_type": "markdown",
   "metadata": {},
   "source": [
    "### bring it all together"
   ]
  },
  {
   "cell_type": "code",
   "execution_count": null,
   "metadata": {},
   "outputs": [
    {
     "name": "stderr",
     "output_type": "stream",
     "text": [
      "[2023-01-13 17:36:34,134] [ WARNING] paddleocr.py:358 - Since the angle classifier is not initialized, the angle classifier will not be uesd during the forward process\n"
     ]
    },
    {
     "name": "stdout",
     "output_type": "stream",
     "text": [
      "[2023/01/13 17:36:34] root WARNING: Since the angle classifier is not initialized, the angle classifier will not be uesd during the forward process\n"
     ]
    },
    {
     "name": "stderr",
     "output_type": "stream",
     "text": [
      "[2023-01-13 17:36:34,308] [   DEBUG] predict_system.py:70 - dt_boxes num : 3, elapse : 0.1526792049407959\n"
     ]
    },
    {
     "name": "stdout",
     "output_type": "stream",
     "text": [
      "[2023/01/13 17:36:34] root DEBUG: dt_boxes num : 3, elapse : 0.1526792049407959\n"
     ]
    },
    {
     "name": "stderr",
     "output_type": "stream",
     "text": [
      "[2023-01-13 17:36:34,556] [   DEBUG] predict_system.py:89 - rec_res num  : 3, elapse : 0.2483518123626709\n"
     ]
    },
    {
     "name": "stdout",
     "output_type": "stream",
     "text": [
      "[2023/01/13 17:36:34] root DEBUG: rec_res num  : 3, elapse : 0.2483518123626709\n"
     ]
    },
    {
     "name": "stderr",
     "output_type": "stream",
     "text": [
      "[2023-01-13 17:36:34,556] [ WARNING] paddleocr.py:358 - Since the angle classifier is not initialized, the angle classifier will not be uesd during the forward process\n"
     ]
    },
    {
     "name": "stdout",
     "output_type": "stream",
     "text": [
      "[2023/01/13 17:36:34] root WARNING: Since the angle classifier is not initialized, the angle classifier will not be uesd during the forward process\n"
     ]
    },
    {
     "name": "stderr",
     "output_type": "stream",
     "text": [
      "[2023-01-13 17:36:34,710] [   DEBUG] predict_system.py:70 - dt_boxes num : 3, elapse : 0.1383671760559082\n"
     ]
    },
    {
     "name": "stdout",
     "output_type": "stream",
     "text": [
      "[2023/01/13 17:36:34] root DEBUG: dt_boxes num : 3, elapse : 0.1383671760559082\n"
     ]
    },
    {
     "name": "stderr",
     "output_type": "stream",
     "text": [
      "[2023-01-13 17:36:34,952] [   DEBUG] predict_system.py:89 - rec_res num  : 3, elapse : 0.24215388298034668\n"
     ]
    },
    {
     "name": "stdout",
     "output_type": "stream",
     "text": [
      "[2023/01/13 17:36:34] root DEBUG: rec_res num  : 3, elapse : 0.24215388298034668\n"
     ]
    },
    {
     "name": "stderr",
     "output_type": "stream",
     "text": [
      "[2023-01-13 17:36:34,973] [   DEBUG] connectionpool.py:228 - Starting new HTTP connection (1): localhost:2023\n"
     ]
    },
    {
     "name": "stdout",
     "output_type": "stream",
     "text": [
      "<class 'list'>\n",
      "[2023/01/13 17:36:34] urllib3.connectionpool DEBUG: Starting new HTTP connection (1): localhost:2023\n"
     ]
    },
    {
     "name": "stderr",
     "output_type": "stream",
     "text": [
      "[2023-01-13 17:36:37,055] [   DEBUG] connectionpool.py:456 - http://localhost:2023 \"POST /api/v1/vehicles/entrance HTTP/1.1\" 201 452\n"
     ]
    },
    {
     "name": "stdout",
     "output_type": "stream",
     "text": [
      "[2023/01/13 17:36:37] urllib3.connectionpool DEBUG: http://localhost:2023 \"POST /api/v1/vehicles/entrance HTTP/1.1\" 201 452\n",
      "{\"status\":201,\"data\":{\"message\":\"Vehicle saved successfuly\",\"data\":{\"id\":\"10f5e930-9358-11ed-b667-bb33dfeb170f\",\"isInside\":true,\"exitedAt\":\"2023-01-13T15:36:36.931Z\",\"plateText\":\"NumberPlateRAA553V\",\"imageUrl\":\"https://res.cloudinary.com/http-voicetoworld-netlify-app/image/upload/v1673624196/projects/smartparking/c5d3ba1d-d1e4-4763-a06a-48a47eeda220_1673624195.201.jpg\",\"updatedAt\":\"2023-01-13T15:36:36.932Z\",\"createdAt\":\"2023-01-13T15:36:36.932Z\"}}}\n"
     ]
    },
    {
     "name": "stderr",
     "output_type": "stream",
     "text": [
      "[2023-01-13 17:36:56,727] [ WARNING] paddleocr.py:358 - Since the angle classifier is not initialized, the angle classifier will not be uesd during the forward process\n"
     ]
    },
    {
     "name": "stdout",
     "output_type": "stream",
     "text": [
      "[2023/01/13 17:36:56] root WARNING: Since the angle classifier is not initialized, the angle classifier will not be uesd during the forward process\n"
     ]
    },
    {
     "name": "stderr",
     "output_type": "stream",
     "text": [
      "[2023-01-13 17:36:56,805] [   DEBUG] predict_system.py:70 - dt_boxes num : 1, elapse : 0.06399941444396973\n"
     ]
    },
    {
     "name": "stdout",
     "output_type": "stream",
     "text": [
      "[2023/01/13 17:36:56] root DEBUG: dt_boxes num : 1, elapse : 0.06399941444396973\n"
     ]
    },
    {
     "name": "stderr",
     "output_type": "stream",
     "text": [
      "[2023-01-13 17:36:56,878] [   DEBUG] predict_system.py:89 - rec_res num  : 1, elapse : 0.0689992904663086\n"
     ]
    },
    {
     "name": "stdout",
     "output_type": "stream",
     "text": [
      "[2023/01/13 17:36:56] root DEBUG: rec_res num  : 1, elapse : 0.0689992904663086\n"
     ]
    },
    {
     "name": "stderr",
     "output_type": "stream",
     "text": [
      "[2023-01-13 17:36:56,879] [ WARNING] paddleocr.py:358 - Since the angle classifier is not initialized, the angle classifier will not be uesd during the forward process\n"
     ]
    },
    {
     "name": "stdout",
     "output_type": "stream",
     "text": [
      "[2023/01/13 17:36:56] root WARNING: Since the angle classifier is not initialized, the angle classifier will not be uesd during the forward process\n"
     ]
    },
    {
     "name": "stderr",
     "output_type": "stream",
     "text": [
      "[2023-01-13 17:36:56,946] [   DEBUG] predict_system.py:70 - dt_boxes num : 1, elapse : 0.06684327125549316\n"
     ]
    },
    {
     "name": "stdout",
     "output_type": "stream",
     "text": [
      "[2023/01/13 17:36:56] root DEBUG: dt_boxes num : 1, elapse : 0.06684327125549316\n"
     ]
    },
    {
     "name": "stderr",
     "output_type": "stream",
     "text": [
      "[2023-01-13 17:36:57,012] [   DEBUG] predict_system.py:89 - rec_res num  : 1, elapse : 0.06646728515625\n"
     ]
    },
    {
     "name": "stdout",
     "output_type": "stream",
     "text": [
      "[2023/01/13 17:36:57] root DEBUG: rec_res num  : 1, elapse : 0.06646728515625\n"
     ]
    },
    {
     "name": "stderr",
     "output_type": "stream",
     "text": [
      "[2023-01-13 17:36:57,012] [   DEBUG] connectionpool.py:228 - Starting new HTTP connection (1): localhost:2023\n"
     ]
    },
    {
     "name": "stdout",
     "output_type": "stream",
     "text": [
      "<class 'list'>\n",
      "[2023/01/13 17:36:57] urllib3.connectionpool DEBUG: Starting new HTTP connection (1): localhost:2023\n"
     ]
    },
    {
     "name": "stderr",
     "output_type": "stream",
     "text": [
      "[2023-01-13 17:36:57,362] [   DEBUG] connectionpool.py:456 - http://localhost:2023 \"POST /api/v1/vehicles/entrance HTTP/1.1\" 201 441\n"
     ]
    },
    {
     "name": "stdout",
     "output_type": "stream",
     "text": [
      "[2023/01/13 17:36:57] urllib3.connectionpool DEBUG: http://localhost:2023 \"POST /api/v1/vehicles/entrance HTTP/1.1\" 201 441\n",
      "{\"status\":201,\"data\":{\"message\":\"Vehicle Exit successfuly\",\"data\":{\"id\":\"4799c110-9357-11ed-b667-bb33dfeb170f\",\"plateText\":\"RAA553V\",\"imageUrl\":\"https://res.cloudinary.com/http-voicetoworld-netlify-app/image/upload/v1673623859/projects/smartparking/ddb41de1-6dca-47a1-b579-f682e5ad9f5d_1673623857.173.jpg\",\"isInside\":false,\"exitedAt\":\"2023-01-13T15:36:57.361Z\",\"createdAt\":\"2023-01-13T15:30:59.108Z\",\"updatedAt\":\"2023-01-13T15:36:57.361Z\"}}}\n"
     ]
    },
    {
     "name": "stderr",
     "output_type": "stream",
     "text": [
      "[2023-01-13 17:37:50,215] [ WARNING] paddleocr.py:358 - Since the angle classifier is not initialized, the angle classifier will not be uesd during the forward process\n"
     ]
    },
    {
     "name": "stdout",
     "output_type": "stream",
     "text": [
      "[2023/01/13 17:37:50] root WARNING: Since the angle classifier is not initialized, the angle classifier will not be uesd during the forward process\n"
     ]
    },
    {
     "name": "stderr",
     "output_type": "stream",
     "text": [
      "[2023-01-13 17:37:50,272] [   DEBUG] predict_system.py:70 - dt_boxes num : 0, elapse : 0.056867361068725586\n"
     ]
    },
    {
     "name": "stdout",
     "output_type": "stream",
     "text": [
      "[2023/01/13 17:37:50] root DEBUG: dt_boxes num : 0, elapse : 0.056867361068725586\n"
     ]
    },
    {
     "name": "stderr",
     "output_type": "stream",
     "text": [
      "[2023-01-13 17:37:50,275] [   DEBUG] predict_system.py:89 - rec_res num  : 0, elapse : 0.0\n"
     ]
    },
    {
     "name": "stdout",
     "output_type": "stream",
     "text": [
      "[2023/01/13 17:37:50] root DEBUG: rec_res num  : 0, elapse : 0.0\n"
     ]
    },
    {
     "name": "stderr",
     "output_type": "stream",
     "text": [
      "[2023-01-13 17:37:50,277] [ WARNING] paddleocr.py:358 - Since the angle classifier is not initialized, the angle classifier will not be uesd during the forward process\n"
     ]
    },
    {
     "name": "stdout",
     "output_type": "stream",
     "text": [
      "[2023/01/13 17:37:50] root WARNING: Since the angle classifier is not initialized, the angle classifier will not be uesd during the forward process\n"
     ]
    },
    {
     "name": "stderr",
     "output_type": "stream",
     "text": [
      "[2023-01-13 17:37:50,305] [   DEBUG] predict_system.py:70 - dt_boxes num : 0, elapse : 0.02508234977722168\n"
     ]
    },
    {
     "name": "stdout",
     "output_type": "stream",
     "text": [
      "[2023/01/13 17:37:50] root DEBUG: dt_boxes num : 0, elapse : 0.02508234977722168\n"
     ]
    },
    {
     "name": "stderr",
     "output_type": "stream",
     "text": [
      "[2023-01-13 17:37:50,310] [   DEBUG] predict_system.py:89 - rec_res num  : 0, elapse : 0.0\n"
     ]
    },
    {
     "name": "stdout",
     "output_type": "stream",
     "text": [
      "[2023/01/13 17:37:50] root DEBUG: rec_res num  : 0, elapse : 0.0\n"
     ]
    },
    {
     "name": "stderr",
     "output_type": "stream",
     "text": [
      "[2023-01-13 17:37:50,320] [   DEBUG] connectionpool.py:228 - Starting new HTTP connection (1): localhost:2023\n"
     ]
    },
    {
     "name": "stdout",
     "output_type": "stream",
     "text": [
      "<class 'list'>\n",
      "[2023/01/13 17:37:50] urllib3.connectionpool DEBUG: Starting new HTTP connection (1): localhost:2023\n"
     ]
    },
    {
     "name": "stderr",
     "output_type": "stream",
     "text": [
      "[2023-01-13 17:37:50,339] [   DEBUG] connectionpool.py:456 - http://localhost:2023 \"POST /api/v1/vehicles/entrance HTTP/1.1\" 400 73\n"
     ]
    },
    {
     "name": "stdout",
     "output_type": "stream",
     "text": [
      "[2023/01/13 17:37:50] urllib3.connectionpool DEBUG: http://localhost:2023 \"POST /api/v1/vehicles/entrance HTTP/1.1\" 400 73\n",
      "{\"status\":400,\"error\":{\"message\":\"plateText is not allowed to be empty\"}}\n"
     ]
    }
   ],
   "source": [
    "\n",
    "frameWidth = 640    #Frame Width\n",
    "franeHeight = 480   # Frame Height\n",
    "\n",
    "plateCascade = cv2.CascadeClassifier(cv2.data.haarcascades +\"haarcascade_russian_plate_number.xml\")\n",
    "minArea = 500\n",
    "\n",
    "cap =cv2.VideoCapture(1)\n",
    "cap.set(3,frameWidth)\n",
    "cap.set(4,franeHeight)\n",
    "cap.set(10,150)\n",
    "count = 0\n",
    "\n",
    "while True:\n",
    "    success , img  = cap.read()\n",
    "\n",
    "    imgGray = cv2.cvtColor(img, cv2.COLOR_BGR2GRAY)\n",
    "\n",
    "    numberPlates = plateCascade .detectMultiScale(imgGray, 1.1, 4)\n",
    "\n",
    "    for (x, y, w, h) in numberPlates:\n",
    "        area = w*h\n",
    "        if area > minArea:\n",
    "            cv2.rectangle(img, (x, y), (x + w, y + h), (255, 0, 0), 2)\n",
    "            cv2.putText(img,\"NumberPlate\",(x,y-5),cv2.FONT_HERSHEY_COMPLEX,1,(0,0,255),2)\n",
    "            imgRoi = img[y:y+h,x:x+w]\n",
    "            cv2.imshow(\"ROI\",imgRoi)\n",
    "            \n",
    "   \n",
    "    cv2.imshow(\"Result\",img)\n",
    "    \n",
    "    if cv2.waitKey(1) & 0xFF ==ord('s'):\n",
    "        cv2.imwrite(\"./images\"+str(count)+\".jpg\",imgRoi)\n",
    "        cv2.rectangle(img,(0,200),(640,300),(0,255,0),cv2.FILLED)\n",
    "        cv2.putText(img,\"Scan Saved\",(15,265),cv2.FONT_HERSHEY_COMPLEX,2,(0,0,255),2)\n",
    "        cv2.imshow(\"Result\",img)\n",
    "        ocr(img)\n",
    "        \n",
    "        kenzo=ocr(imgRoi)   \n",
    "        son={'plateText': kenzo}\n",
    "        files=[\n",
    "         ('photo',(\"images\"+str(count)+\".jpg\",open(\"images\"+str(count)+\".jpg\",'rb'),'image/jpeg'))\n",
    "          ]\n",
    "        print(type(files))\n",
    "        payload={'plateText': kenzo}\n",
    "#         payload = json.dumps(son )\n",
    "        response = requests.request(\"POST\", api, headers=headers, data=payload, files=files)\n",
    "       \n",
    "\n",
    "#         sender(payload,files)\n",
    "        print(response.text)\n",
    "        \n",
    "        cv2.waitKey(500)\n",
    "#         count+=1\n",
    "#         cap.release()\n",
    "#         cv2.destroyAllWindows()\n",
    "#         break\n",
    "        \n",
    "      "
   ]
  },
  {
   "cell_type": "code",
   "execution_count": null,
   "metadata": {},
   "outputs": [],
   "source": []
  }
 ],
 "metadata": {
  "kernelspec": {
   "display_name": "Python 3 (ipykernel)",
   "language": "python",
   "name": "python3"
  },
  "language_info": {
   "codemirror_mode": {
    "name": "ipython",
    "version": 3
   },
   "file_extension": ".py",
   "mimetype": "text/x-python",
   "name": "python",
   "nbconvert_exporter": "python",
   "pygments_lexer": "ipython3",
   "version": "3.9.13"
  },
  "vscode": {
   "interpreter": {
    "hash": "c261aea317cc0286b3b3261fbba9abdec21eaa57589985bb7a274bf54d6cc0a7"
   }
  }
 },
 "nbformat": 4,
 "nbformat_minor": 2
}
