{
 "cells": [
  {
   "cell_type": "code",
   "execution_count": 1,
   "metadata": {
    "scrolled": true
   },
   "outputs": [
    {
     "name": "stdout",
     "output_type": "stream",
     "text": [
      "Looking in indexes: https://mirror.baidu.com/pypi/simple\n",
      "Requirement already satisfied: paddlepaddle in c:\\users\\emman\\appdata\\roaming\\python\\python39\\site-packages (2.4.1)\n",
      "Requirement already satisfied: six in c:\\users\\emman\\anaconda3\\lib\\site-packages (from paddlepaddle) (1.16.0)\n",
      "Requirement already satisfied: paddle-bfloat==0.1.7 in c:\\users\\emman\\appdata\\roaming\\python\\python39\\site-packages (from paddlepaddle) (0.1.7)\n",
      "Requirement already satisfied: Pillow in c:\\users\\emman\\anaconda3\\lib\\site-packages (from paddlepaddle) (9.3.0)\n",
      "Requirement already satisfied: decorator in c:\\users\\emman\\anaconda3\\lib\\site-packages (from paddlepaddle) (5.1.1)\n",
      "Requirement already satisfied: opt-einsum==3.3.0 in c:\\users\\emman\\appdata\\roaming\\python\\python39\\site-packages (from paddlepaddle) (3.3.0)\n",
      "Requirement already satisfied: requests>=2.20.0 in c:\\users\\emman\\anaconda3\\lib\\site-packages (from paddlepaddle) (2.28.1)\n",
      "Requirement already satisfied: numpy>=1.13 in c:\\users\\emman\\anaconda3\\lib\\site-packages (from paddlepaddle) (1.23.5)\n",
      "Requirement already satisfied: astor in c:\\users\\emman\\appdata\\roaming\\python\\python39\\site-packages (from paddlepaddle) (0.8.1)\n",
      "Requirement already satisfied: protobuf<=3.20.0,>=3.1.0 in c:\\users\\emman\\appdata\\roaming\\python\\python39\\site-packages (from paddlepaddle) (3.20.0)\n",
      "Requirement already satisfied: charset-normalizer<3,>=2 in c:\\users\\emman\\anaconda3\\lib\\site-packages (from requests>=2.20.0->paddlepaddle) (2.0.4)\n",
      "Requirement already satisfied: certifi>=2017.4.17 in c:\\users\\emman\\anaconda3\\lib\\site-packages (from requests>=2.20.0->paddlepaddle) (2022.12.7)\n",
      "Requirement already satisfied: idna<4,>=2.5 in c:\\users\\emman\\anaconda3\\lib\\site-packages (from requests>=2.20.0->paddlepaddle) (3.4)\n",
      "Requirement already satisfied: urllib3<1.27,>=1.21.1 in c:\\users\\emman\\anaconda3\\lib\\site-packages (from requests>=2.20.0->paddlepaddle) (1.26.13)\n"
     ]
    }
   ],
   "source": [
    "!python -m pip install --user paddlepaddle -i https://mirror.baidu.com/pypi/simple"
   ]
  },
  {
   "cell_type": "code",
   "execution_count": 2,
   "metadata": {},
   "outputs": [
    {
     "name": "stdout",
     "output_type": "stream",
     "text": [
      "Requirement already satisfied: paddleocr in c:\\users\\emman\\anaconda3\\lib\\site-packages (2.4)\n",
      "Requirement already satisfied: scikit-image in c:\\users\\emman\\anaconda3\\lib\\site-packages (from paddleocr) (0.19.3)\n",
      "Requirement already satisfied: openpyxl in c:\\users\\emman\\anaconda3\\lib\\site-packages (from paddleocr) (3.0.10)\n",
      "Requirement already satisfied: imgaug==0.4.0 in c:\\users\\emman\\appdata\\roaming\\python\\python39\\site-packages (from paddleocr) (0.4.0)\n",
      "Requirement already satisfied: lxml in c:\\users\\emman\\anaconda3\\lib\\site-packages (from paddleocr) (4.9.1)\n",
      "Requirement already satisfied: cython in c:\\users\\emman\\anaconda3\\lib\\site-packages (from paddleocr) (0.29.32)\n",
      "Requirement already satisfied: pyclipper in c:\\users\\emman\\appdata\\roaming\\python\\python39\\site-packages (from paddleocr) (1.3.0.post4)\n",
      "Requirement already satisfied: tqdm in c:\\users\\emman\\anaconda3\\lib\\site-packages (from paddleocr) (4.64.1)\n",
      "Requirement already satisfied: opencv-contrib-python==4.4.0.46 in c:\\users\\emman\\anaconda3\\lib\\site-packages (from paddleocr) (4.4.0.46)\n",
      "Requirement already satisfied: premailer in c:\\users\\emman\\appdata\\roaming\\python\\python39\\site-packages (from paddleocr) (3.10.0)\n",
      "Requirement already satisfied: visualdl in c:\\users\\emman\\appdata\\roaming\\python\\python39\\site-packages (from paddleocr) (2.4.2)\n",
      "Requirement already satisfied: paddlenlp>=2.2.1 in c:\\users\\emman\\anaconda3\\lib\\site-packages (from paddleocr) (2.5.0)\n",
      "Requirement already satisfied: python-Levenshtein in c:\\users\\emman\\anaconda3\\lib\\site-packages (from paddleocr) (0.20.9)\n",
      "Requirement already satisfied: shapely in c:\\users\\emman\\appdata\\roaming\\python\\python39\\site-packages (from paddleocr) (2.0.0)\n",
      "Requirement already satisfied: lmdb in c:\\users\\emman\\appdata\\roaming\\python\\python39\\site-packages (from paddleocr) (1.4.0)\n",
      "Requirement already satisfied: numpy in c:\\users\\emman\\anaconda3\\lib\\site-packages (from paddleocr) (1.23.5)\n",
      "Requirement already satisfied: imageio in c:\\users\\emman\\anaconda3\\lib\\site-packages (from imgaug==0.4.0->paddleocr) (2.19.3)\n",
      "Requirement already satisfied: matplotlib in c:\\users\\emman\\anaconda3\\lib\\site-packages (from imgaug==0.4.0->paddleocr) (3.6.2)\n",
      "Requirement already satisfied: scipy in c:\\users\\emman\\anaconda3\\lib\\site-packages (from imgaug==0.4.0->paddleocr) (1.9.3)\n",
      "Requirement already satisfied: Pillow in c:\\users\\emman\\anaconda3\\lib\\site-packages (from imgaug==0.4.0->paddleocr) (9.3.0)\n",
      "Requirement already satisfied: opencv-python in c:\\users\\emman\\appdata\\roaming\\python\\python39\\site-packages (from imgaug==0.4.0->paddleocr) (4.7.0.68)\n",
      "Requirement already satisfied: six in c:\\users\\emman\\anaconda3\\lib\\site-packages (from imgaug==0.4.0->paddleocr) (1.16.0)\n",
      "Requirement already satisfied: jieba in c:\\users\\emman\\anaconda3\\lib\\site-packages (from paddlenlp>=2.2.1->paddleocr) (0.42.1)\n",
      "Requirement already satisfied: sentencepiece in c:\\users\\emman\\anaconda3\\lib\\site-packages (from paddlenlp>=2.2.1->paddleocr) (0.1.97)\n",
      "Requirement already satisfied: protobuf<=3.20.0,>=3.1.0 in c:\\users\\emman\\appdata\\roaming\\python\\python39\\site-packages (from paddlenlp>=2.2.1->paddleocr) (3.20.0)\n",
      "Requirement already satisfied: fastapi in c:\\users\\emman\\anaconda3\\lib\\site-packages (from paddlenlp>=2.2.1->paddleocr) (0.89.1)\n",
      "Requirement already satisfied: datasets>=2.0.0 in c:\\users\\emman\\anaconda3\\lib\\site-packages (from paddlenlp>=2.2.1->paddleocr) (2.8.0)\n",
      "Requirement already satisfied: paddle2onnx in c:\\users\\emman\\anaconda3\\lib\\site-packages (from paddlenlp>=2.2.1->paddleocr) (1.0.5)\n",
      "Requirement already satisfied: seqeval in c:\\users\\emman\\anaconda3\\lib\\site-packages (from paddlenlp>=2.2.1->paddleocr) (1.2.2)\n",
      "Requirement already satisfied: huggingface-hub>=0.11.1 in c:\\users\\emman\\anaconda3\\lib\\site-packages (from paddlenlp>=2.2.1->paddleocr) (0.11.1)\n",
      "Requirement already satisfied: dill<0.3.5 in c:\\users\\emman\\appdata\\roaming\\python\\python39\\site-packages (from paddlenlp>=2.2.1->paddleocr) (0.3.4)\n",
      "Requirement already satisfied: paddlefsl in c:\\users\\emman\\anaconda3\\lib\\site-packages (from paddlenlp>=2.2.1->paddleocr) (1.1.0)\n",
      "Requirement already satisfied: uvicorn in c:\\users\\emman\\anaconda3\\lib\\site-packages (from paddlenlp>=2.2.1->paddleocr) (0.20.0)\n",
      "Requirement already satisfied: typer in c:\\users\\emman\\anaconda3\\lib\\site-packages (from paddlenlp>=2.2.1->paddleocr) (0.7.0)\n",
      "Requirement already satisfied: rich in c:\\users\\emman\\anaconda3\\lib\\site-packages (from paddlenlp>=2.2.1->paddleocr) (13.0.1)\n",
      "Requirement already satisfied: colorlog in c:\\users\\emman\\anaconda3\\lib\\site-packages (from paddlenlp>=2.2.1->paddleocr) (6.7.0)\n",
      "Requirement already satisfied: multiprocess<=0.70.12.2 in c:\\users\\emman\\anaconda3\\lib\\site-packages (from paddlenlp>=2.2.1->paddleocr) (0.70.12.2)\n",
      "Requirement already satisfied: colorama in c:\\users\\emman\\anaconda3\\lib\\site-packages (from paddlenlp>=2.2.1->paddleocr) (0.4.6)\n",
      "Requirement already satisfied: tifffile>=2019.7.26 in c:\\users\\emman\\anaconda3\\lib\\site-packages (from scikit-image->paddleocr) (2021.7.2)\n",
      "Requirement already satisfied: PyWavelets>=1.1.1 in c:\\users\\emman\\anaconda3\\lib\\site-packages (from scikit-image->paddleocr) (1.4.1)\n",
      "Requirement already satisfied: networkx>=2.2 in c:\\users\\emman\\anaconda3\\lib\\site-packages (from scikit-image->paddleocr) (2.8.4)\n",
      "Requirement already satisfied: packaging>=20.0 in c:\\users\\emman\\anaconda3\\lib\\site-packages (from scikit-image->paddleocr) (22.0)\n",
      "Requirement already satisfied: et_xmlfile in c:\\users\\emman\\anaconda3\\lib\\site-packages (from openpyxl->paddleocr) (1.1.0)\n",
      "Requirement already satisfied: cssutils in c:\\users\\emman\\appdata\\roaming\\python\\python39\\site-packages (from premailer->paddleocr) (2.6.0)\n",
      "Requirement already satisfied: requests in c:\\users\\emman\\anaconda3\\lib\\site-packages (from premailer->paddleocr) (2.28.1)\n",
      "Requirement already satisfied: cssselect in c:\\users\\emman\\anaconda3\\lib\\site-packages (from premailer->paddleocr) (1.1.0)\n",
      "Requirement already satisfied: cachetools in c:\\users\\emman\\appdata\\roaming\\python\\python39\\site-packages (from premailer->paddleocr) (5.2.1)\n",
      "Requirement already satisfied: Levenshtein==0.20.9 in c:\\users\\emman\\anaconda3\\lib\\site-packages (from python-Levenshtein->paddleocr) (0.20.9)\n",
      "Requirement already satisfied: rapidfuzz<3.0.0,>=2.3.0 in c:\\users\\emman\\appdata\\roaming\\python\\python39\\site-packages (from Levenshtein==0.20.9->python-Levenshtein->paddleocr) (2.13.7)\n",
      "Requirement already satisfied: flask>=1.1.1 in c:\\users\\emman\\anaconda3\\lib\\site-packages (from visualdl->paddleocr) (1.1.2)\n",
      "Requirement already satisfied: Flask-Babel>=1.0.0 in c:\\users\\emman\\appdata\\roaming\\python\\python39\\site-packages (from visualdl->paddleocr) (2.0.0)\n",
      "Requirement already satisfied: bce-python-sdk in c:\\users\\emman\\appdata\\roaming\\python\\python39\\site-packages (from visualdl->paddleocr) (0.8.74)\n",
      "Requirement already satisfied: pandas in c:\\users\\emman\\anaconda3\\lib\\site-packages (from visualdl->paddleocr) (1.4.4)\n",
      "Requirement already satisfied: pyyaml>=5.1 in c:\\users\\emman\\anaconda3\\lib\\site-packages (from datasets>=2.0.0->paddlenlp>=2.2.1->paddleocr) (6.0)\n",
      "Requirement already satisfied: xxhash in c:\\users\\emman\\anaconda3\\lib\\site-packages (from datasets>=2.0.0->paddlenlp>=2.2.1->paddleocr) (3.2.0)\n",
      "Requirement already satisfied: aiohttp in c:\\users\\emman\\anaconda3\\lib\\site-packages (from datasets>=2.0.0->paddlenlp>=2.2.1->paddleocr) (3.8.3)\n",
      "Requirement already satisfied: pyarrow>=6.0.0 in c:\\users\\emman\\anaconda3\\lib\\site-packages (from datasets>=2.0.0->paddlenlp>=2.2.1->paddleocr) (10.0.1)\n",
      "Requirement already satisfied: responses<0.19 in c:\\users\\emman\\anaconda3\\lib\\site-packages (from datasets>=2.0.0->paddlenlp>=2.2.1->paddleocr) (0.18.0)\n",
      "Requirement already satisfied: fsspec[http]>=2021.11.1 in c:\\users\\emman\\anaconda3\\lib\\site-packages (from datasets>=2.0.0->paddlenlp>=2.2.1->paddleocr) (2022.11.0)\n",
      "Requirement already satisfied: Werkzeug>=0.15 in c:\\users\\emman\\anaconda3\\lib\\site-packages (from flask>=1.1.1->visualdl->paddleocr) (2.0.3)\n",
      "Requirement already satisfied: itsdangerous>=0.24 in c:\\users\\emman\\anaconda3\\lib\\site-packages (from flask>=1.1.1->visualdl->paddleocr) (2.0.1)\n",
      "Requirement already satisfied: Jinja2>=2.10.1 in c:\\users\\emman\\anaconda3\\lib\\site-packages (from flask>=1.1.1->visualdl->paddleocr) (2.11.3)\n",
      "Requirement already satisfied: click>=5.1 in c:\\users\\emman\\anaconda3\\lib\\site-packages (from flask>=1.1.1->visualdl->paddleocr) (8.0.4)\n",
      "Requirement already satisfied: Babel>=2.3 in c:\\users\\emman\\anaconda3\\lib\\site-packages (from Flask-Babel>=1.0.0->visualdl->paddleocr) (2.11.0)\n",
      "Requirement already satisfied: pytz in c:\\users\\emman\\anaconda3\\lib\\site-packages (from Flask-Babel>=1.0.0->visualdl->paddleocr) (2022.7)\n",
      "Requirement already satisfied: typing-extensions>=3.7.4.3 in c:\\users\\emman\\anaconda3\\lib\\site-packages (from huggingface-hub>=0.11.1->paddlenlp>=2.2.1->paddleocr) (4.4.0)\n",
      "Requirement already satisfied: filelock in c:\\users\\emman\\anaconda3\\lib\\site-packages (from huggingface-hub>=0.11.1->paddlenlp>=2.2.1->paddleocr) (3.9.0)\n",
      "Requirement already satisfied: urllib3<1.27,>=1.21.1 in c:\\users\\emman\\anaconda3\\lib\\site-packages (from requests->premailer->paddleocr) (1.26.13)\n",
      "Requirement already satisfied: idna<4,>=2.5 in c:\\users\\emman\\anaconda3\\lib\\site-packages (from requests->premailer->paddleocr) (3.4)\n",
      "Requirement already satisfied: charset-normalizer<3,>=2 in c:\\users\\emman\\anaconda3\\lib\\site-packages (from requests->premailer->paddleocr) (2.0.4)\n",
      "Requirement already satisfied: certifi>=2017.4.17 in c:\\users\\emman\\anaconda3\\lib\\site-packages (from requests->premailer->paddleocr) (2022.12.7)\n",
      "Requirement already satisfied: pycryptodome>=3.8.0 in c:\\users\\emman\\appdata\\roaming\\python\\python39\\site-packages (from bce-python-sdk->visualdl->paddleocr) (3.16.0)\n",
      "Requirement already satisfied: future>=0.6.0 in c:\\users\\emman\\anaconda3\\lib\\site-packages (from bce-python-sdk->visualdl->paddleocr) (0.18.2)\n",
      "Requirement already satisfied: starlette==0.22.0 in c:\\users\\emman\\anaconda3\\lib\\site-packages (from fastapi->paddlenlp>=2.2.1->paddleocr) (0.22.0)\n",
      "Requirement already satisfied: pydantic!=1.7,!=1.7.1,!=1.7.2,!=1.7.3,!=1.8,!=1.8.1,<2.0.0,>=1.6.2 in c:\\users\\emman\\anaconda3\\lib\\site-packages (from fastapi->paddlenlp>=2.2.1->paddleocr) (1.10.4)\n",
      "Requirement already satisfied: anyio<5,>=3.4.0 in c:\\users\\emman\\anaconda3\\lib\\site-packages (from starlette==0.22.0->fastapi->paddlenlp>=2.2.1->paddleocr) (3.5.0)\n",
      "Requirement already satisfied: cycler>=0.10 in c:\\users\\emman\\anaconda3\\lib\\site-packages (from matplotlib->imgaug==0.4.0->paddleocr) (0.11.0)\n",
      "Requirement already satisfied: pyparsing>=2.2.1 in c:\\users\\emman\\anaconda3\\lib\\site-packages (from matplotlib->imgaug==0.4.0->paddleocr) (3.0.9)\n",
      "Requirement already satisfied: kiwisolver>=1.0.1 in c:\\users\\emman\\anaconda3\\lib\\site-packages (from matplotlib->imgaug==0.4.0->paddleocr) (1.4.4)\n",
      "Requirement already satisfied: contourpy>=1.0.1 in c:\\users\\emman\\anaconda3\\lib\\site-packages (from matplotlib->imgaug==0.4.0->paddleocr) (1.0.5)\n",
      "Requirement already satisfied: fonttools>=4.22.0 in c:\\users\\emman\\anaconda3\\lib\\site-packages (from matplotlib->imgaug==0.4.0->paddleocr) (4.25.0)\n",
      "Requirement already satisfied: python-dateutil>=2.7 in c:\\users\\emman\\anaconda3\\lib\\site-packages (from matplotlib->imgaug==0.4.0->paddleocr) (2.8.2)\n",
      "Requirement already satisfied: pygments<3.0.0,>=2.6.0 in c:\\users\\emman\\anaconda3\\lib\\site-packages (from rich->paddlenlp>=2.2.1->paddleocr) (2.11.2)\n",
      "Requirement already satisfied: commonmark<0.10.0,>=0.9.0 in c:\\users\\emman\\anaconda3\\lib\\site-packages (from rich->paddlenlp>=2.2.1->paddleocr) (0.9.1)\n",
      "Requirement already satisfied: scikit-learn>=0.21.3 in c:\\users\\emman\\anaconda3\\lib\\site-packages (from seqeval->paddlenlp>=2.2.1->paddleocr) (1.0.2)\n",
      "Requirement already satisfied: h11>=0.8 in c:\\users\\emman\\anaconda3\\lib\\site-packages (from uvicorn->paddlenlp>=2.2.1->paddleocr) (0.14.0)\n",
      "Requirement already satisfied: async-timeout<5.0,>=4.0.0a3 in c:\\users\\emman\\anaconda3\\lib\\site-packages (from aiohttp->datasets>=2.0.0->paddlenlp>=2.2.1->paddleocr) (4.0.2)\n",
      "Requirement already satisfied: yarl<2.0,>=1.0 in c:\\users\\emman\\anaconda3\\lib\\site-packages (from aiohttp->datasets>=2.0.0->paddlenlp>=2.2.1->paddleocr) (1.8.2)\n",
      "Requirement already satisfied: aiosignal>=1.1.2 in c:\\users\\emman\\anaconda3\\lib\\site-packages (from aiohttp->datasets>=2.0.0->paddlenlp>=2.2.1->paddleocr) (1.3.1)\n",
      "Requirement already satisfied: frozenlist>=1.1.1 in c:\\users\\emman\\anaconda3\\lib\\site-packages (from aiohttp->datasets>=2.0.0->paddlenlp>=2.2.1->paddleocr) (1.3.3)\n",
      "Requirement already satisfied: multidict<7.0,>=4.5 in c:\\users\\emman\\anaconda3\\lib\\site-packages (from aiohttp->datasets>=2.0.0->paddlenlp>=2.2.1->paddleocr) (6.0.4)\n",
      "Requirement already satisfied: attrs>=17.3.0 in c:\\users\\emman\\anaconda3\\lib\\site-packages (from aiohttp->datasets>=2.0.0->paddlenlp>=2.2.1->paddleocr) (22.1.0)\n",
      "Requirement already satisfied: MarkupSafe>=0.23 in c:\\users\\emman\\anaconda3\\lib\\site-packages (from Jinja2>=2.10.1->flask>=1.1.1->visualdl->paddleocr) (2.0.1)\n",
      "Requirement already satisfied: joblib>=0.11 in c:\\users\\emman\\anaconda3\\lib\\site-packages (from scikit-learn>=0.21.3->seqeval->paddlenlp>=2.2.1->paddleocr) (1.1.1)\n",
      "Requirement already satisfied: threadpoolctl>=2.0.0 in c:\\users\\emman\\anaconda3\\lib\\site-packages (from scikit-learn>=0.21.3->seqeval->paddlenlp>=2.2.1->paddleocr) (2.2.0)\n",
      "Requirement already satisfied: sniffio>=1.1 in c:\\users\\emman\\anaconda3\\lib\\site-packages (from anyio<5,>=3.4.0->starlette==0.22.0->fastapi->paddlenlp>=2.2.1->paddleocr) (1.2.0)\n"
     ]
    }
   ],
   "source": [
    "!pip install --user paddleocr"
   ]
  },
  {
   "cell_type": "code",
   "execution_count": 3,
   "metadata": {},
   "outputs": [
    {
     "name": "stderr",
     "output_type": "stream",
     "text": [
      "fatal: destination path 'PaddleOCR' already exists and is not an empty directory.\n"
     ]
    }
   ],
   "source": [
    "!git clone https://github.com/PaddlePaddle/PaddleOCR\n",
    "    "
   ]
  },
  {
   "cell_type": "code",
   "execution_count": 4,
   "metadata": {},
   "outputs": [
    {
     "name": "stdout",
     "output_type": "stream",
     "text": [
      "Requirement already satisfied: opencv-python-headless in c:\\python311\\lib\\site-packages (4.7.0.68)\n",
      "Requirement already satisfied: numpy>=1.21.2 in c:\\python311\\lib\\site-packages (from opencv-python-headless) (1.24.1)\n"
     ]
    }
   ],
   "source": [
    "!pip install opencv-python-headless"
   ]
  },
  {
   "cell_type": "markdown",
   "metadata": {},
   "source": []
  },
  {
   "cell_type": "code",
   "execution_count": 3,
   "metadata": {},
   "outputs": [
    {
     "name": "stdout",
     "output_type": "stream",
     "text": [
      "Requirement already satisfied: paddleocr>=2.0.1 in c:\\users\\emman\\anaconda3\\lib\\site-packages (2.4)\n",
      "Requirement already satisfied: lmdb in c:\\users\\emman\\appdata\\roaming\\python\\python39\\site-packages (from paddleocr>=2.0.1) (1.4.0)\n",
      "Requirement already satisfied: python-Levenshtein in c:\\users\\emman\\anaconda3\\lib\\site-packages (from paddleocr>=2.0.1) (0.20.9)\n",
      "Requirement already satisfied: tqdm in c:\\users\\emman\\anaconda3\\lib\\site-packages (from paddleocr>=2.0.1) (4.64.1)\n",
      "Requirement already satisfied: visualdl in c:\\users\\emman\\appdata\\roaming\\python\\python39\\site-packages (from paddleocr>=2.0.1) (2.4.2)\n",
      "Requirement already satisfied: paddlenlp>=2.2.1 in c:\\users\\emman\\anaconda3\\lib\\site-packages (from paddleocr>=2.0.1) (2.5.0)\n",
      "Requirement already satisfied: pyclipper in c:\\users\\emman\\appdata\\roaming\\python\\python39\\site-packages (from paddleocr>=2.0.1) (1.3.0.post4)\n",
      "Requirement already satisfied: lxml in c:\\users\\emman\\anaconda3\\lib\\site-packages (from paddleocr>=2.0.1) (4.9.1)\n",
      "Requirement already satisfied: cython in c:\\users\\emman\\anaconda3\\lib\\site-packages (from paddleocr>=2.0.1) (0.29.32)\n",
      "Requirement already satisfied: shapely in c:\\users\\emman\\appdata\\roaming\\python\\python39\\site-packages (from paddleocr>=2.0.1) (2.0.0)\n",
      "Requirement already satisfied: premailer in c:\\users\\emman\\appdata\\roaming\\python\\python39\\site-packages (from paddleocr>=2.0.1) (3.10.0)\n",
      "Requirement already satisfied: openpyxl in c:\\users\\emman\\anaconda3\\lib\\site-packages (from paddleocr>=2.0.1) (3.0.10)\n",
      "Requirement already satisfied: opencv-contrib-python==4.4.0.46 in c:\\users\\emman\\anaconda3\\lib\\site-packages (from paddleocr>=2.0.1) (4.4.0.46)\n",
      "Requirement already satisfied: scikit-image in c:\\users\\emman\\anaconda3\\lib\\site-packages (from paddleocr>=2.0.1) (0.19.3)\n",
      "Requirement already satisfied: imgaug==0.4.0 in c:\\users\\emman\\appdata\\roaming\\python\\python39\\site-packages (from paddleocr>=2.0.1) (0.4.0)\n",
      "Requirement already satisfied: numpy in c:\\users\\emman\\anaconda3\\lib\\site-packages (from paddleocr>=2.0.1) (1.23.5)\n",
      "Requirement already satisfied: imageio in c:\\users\\emman\\anaconda3\\lib\\site-packages (from imgaug==0.4.0->paddleocr>=2.0.1) (2.19.3)\n",
      "Requirement already satisfied: Pillow in c:\\users\\emman\\anaconda3\\lib\\site-packages (from imgaug==0.4.0->paddleocr>=2.0.1) (9.3.0)\n",
      "Requirement already satisfied: six in c:\\users\\emman\\anaconda3\\lib\\site-packages (from imgaug==0.4.0->paddleocr>=2.0.1) (1.16.0)\n",
      "Requirement already satisfied: opencv-python in c:\\users\\emman\\appdata\\roaming\\python\\python39\\site-packages (from imgaug==0.4.0->paddleocr>=2.0.1) (4.7.0.68)\n",
      "Requirement already satisfied: scipy in c:\\users\\emman\\anaconda3\\lib\\site-packages (from imgaug==0.4.0->paddleocr>=2.0.1) (1.9.3)\n",
      "Requirement already satisfied: matplotlib in c:\\users\\emman\\anaconda3\\lib\\site-packages (from imgaug==0.4.0->paddleocr>=2.0.1) (3.6.2)\n",
      "Requirement already satisfied: dill<0.3.5 in c:\\users\\emman\\appdata\\roaming\\python\\python39\\site-packages (from paddlenlp>=2.2.1->paddleocr>=2.0.1) (0.3.4)\n",
      "Requirement already satisfied: multiprocess<=0.70.12.2 in c:\\users\\emman\\anaconda3\\lib\\site-packages (from paddlenlp>=2.2.1->paddleocr>=2.0.1) (0.70.12.2)\n",
      "Requirement already satisfied: paddlefsl in c:\\users\\emman\\anaconda3\\lib\\site-packages (from paddlenlp>=2.2.1->paddleocr>=2.0.1) (1.1.0)\n",
      "Requirement already satisfied: paddle2onnx in c:\\users\\emman\\anaconda3\\lib\\site-packages (from paddlenlp>=2.2.1->paddleocr>=2.0.1) (1.0.5)\n",
      "Requirement already satisfied: protobuf<=3.20.0,>=3.1.0 in c:\\users\\emman\\appdata\\roaming\\python\\python39\\site-packages (from paddlenlp>=2.2.1->paddleocr>=2.0.1) (3.20.0)\n",
      "Requirement already satisfied: typer in c:\\users\\emman\\anaconda3\\lib\\site-packages (from paddlenlp>=2.2.1->paddleocr>=2.0.1) (0.7.0)\n",
      "Requirement already satisfied: colorlog in c:\\users\\emman\\anaconda3\\lib\\site-packages (from paddlenlp>=2.2.1->paddleocr>=2.0.1) (6.7.0)\n",
      "Requirement already satisfied: colorama in c:\\users\\emman\\anaconda3\\lib\\site-packages (from paddlenlp>=2.2.1->paddleocr>=2.0.1) (0.4.6)\n",
      "Requirement already satisfied: fastapi in c:\\users\\emman\\anaconda3\\lib\\site-packages (from paddlenlp>=2.2.1->paddleocr>=2.0.1) (0.89.1)\n",
      "Requirement already satisfied: uvicorn in c:\\users\\emman\\anaconda3\\lib\\site-packages (from paddlenlp>=2.2.1->paddleocr>=2.0.1) (0.20.0)\n",
      "Requirement already satisfied: huggingface-hub>=0.11.1 in c:\\users\\emman\\anaconda3\\lib\\site-packages (from paddlenlp>=2.2.1->paddleocr>=2.0.1) (0.11.1)\n",
      "Requirement already satisfied: jieba in c:\\users\\emman\\anaconda3\\lib\\site-packages (from paddlenlp>=2.2.1->paddleocr>=2.0.1) (0.42.1)\n",
      "Requirement already satisfied: seqeval in c:\\users\\emman\\anaconda3\\lib\\site-packages (from paddlenlp>=2.2.1->paddleocr>=2.0.1) (1.2.2)\n",
      "Requirement already satisfied: rich in c:\\users\\emman\\anaconda3\\lib\\site-packages (from paddlenlp>=2.2.1->paddleocr>=2.0.1) (13.0.1)\n",
      "Requirement already satisfied: datasets>=2.0.0 in c:\\users\\emman\\anaconda3\\lib\\site-packages (from paddlenlp>=2.2.1->paddleocr>=2.0.1) (2.8.0)\n",
      "Requirement already satisfied: sentencepiece in c:\\users\\emman\\anaconda3\\lib\\site-packages (from paddlenlp>=2.2.1->paddleocr>=2.0.1) (0.1.97)\n",
      "Requirement already satisfied: networkx>=2.2 in c:\\users\\emman\\anaconda3\\lib\\site-packages (from scikit-image->paddleocr>=2.0.1) (2.8.4)\n",
      "Requirement already satisfied: PyWavelets>=1.1.1 in c:\\users\\emman\\anaconda3\\lib\\site-packages (from scikit-image->paddleocr>=2.0.1) (1.4.1)\n",
      "Requirement already satisfied: packaging>=20.0 in c:\\users\\emman\\anaconda3\\lib\\site-packages (from scikit-image->paddleocr>=2.0.1) (22.0)\n",
      "Requirement already satisfied: tifffile>=2019.7.26 in c:\\users\\emman\\anaconda3\\lib\\site-packages (from scikit-image->paddleocr>=2.0.1) (2021.7.2)\n",
      "Requirement already satisfied: et_xmlfile in c:\\users\\emman\\anaconda3\\lib\\site-packages (from openpyxl->paddleocr>=2.0.1) (1.1.0)\n",
      "Requirement already satisfied: cssselect in c:\\users\\emman\\anaconda3\\lib\\site-packages (from premailer->paddleocr>=2.0.1) (1.1.0)\n",
      "Requirement already satisfied: cachetools in c:\\users\\emman\\appdata\\roaming\\python\\python39\\site-packages (from premailer->paddleocr>=2.0.1) (5.2.1)\n",
      "Requirement already satisfied: requests in c:\\users\\emman\\anaconda3\\lib\\site-packages (from premailer->paddleocr>=2.0.1) (2.28.1)\n",
      "Requirement already satisfied: cssutils in c:\\users\\emman\\appdata\\roaming\\python\\python39\\site-packages (from premailer->paddleocr>=2.0.1) (2.6.0)\n",
      "Requirement already satisfied: Levenshtein==0.20.9 in c:\\users\\emman\\anaconda3\\lib\\site-packages (from python-Levenshtein->paddleocr>=2.0.1) (0.20.9)\n",
      "Requirement already satisfied: rapidfuzz<3.0.0,>=2.3.0 in c:\\users\\emman\\appdata\\roaming\\python\\python39\\site-packages (from Levenshtein==0.20.9->python-Levenshtein->paddleocr>=2.0.1) (2.13.7)\n",
      "Requirement already satisfied: flask>=1.1.1 in c:\\users\\emman\\anaconda3\\lib\\site-packages (from visualdl->paddleocr>=2.0.1) (1.1.2)\n",
      "Requirement already satisfied: bce-python-sdk in c:\\users\\emman\\appdata\\roaming\\python\\python39\\site-packages (from visualdl->paddleocr>=2.0.1) (0.8.74)\n",
      "Requirement already satisfied: Flask-Babel>=1.0.0 in c:\\users\\emman\\appdata\\roaming\\python\\python39\\site-packages (from visualdl->paddleocr>=2.0.1) (2.0.0)\n",
      "Requirement already satisfied: pandas in c:\\users\\emman\\anaconda3\\lib\\site-packages (from visualdl->paddleocr>=2.0.1) (1.4.4)\n",
      "Requirement already satisfied: pyarrow>=6.0.0 in c:\\users\\emman\\anaconda3\\lib\\site-packages (from datasets>=2.0.0->paddlenlp>=2.2.1->paddleocr>=2.0.1) (10.0.1)\n",
      "Requirement already satisfied: responses<0.19 in c:\\users\\emman\\anaconda3\\lib\\site-packages (from datasets>=2.0.0->paddlenlp>=2.2.1->paddleocr>=2.0.1) (0.18.0)\n",
      "Requirement already satisfied: aiohttp in c:\\users\\emman\\anaconda3\\lib\\site-packages (from datasets>=2.0.0->paddlenlp>=2.2.1->paddleocr>=2.0.1) (3.8.3)\n",
      "Requirement already satisfied: pyyaml>=5.1 in c:\\users\\emman\\anaconda3\\lib\\site-packages (from datasets>=2.0.0->paddlenlp>=2.2.1->paddleocr>=2.0.1) (6.0)\n",
      "Requirement already satisfied: fsspec[http]>=2021.11.1 in c:\\users\\emman\\anaconda3\\lib\\site-packages (from datasets>=2.0.0->paddlenlp>=2.2.1->paddleocr>=2.0.1) (2022.11.0)\n",
      "Requirement already satisfied: xxhash in c:\\users\\emman\\anaconda3\\lib\\site-packages (from datasets>=2.0.0->paddlenlp>=2.2.1->paddleocr>=2.0.1) (3.2.0)\n",
      "Requirement already satisfied: click>=5.1 in c:\\users\\emman\\anaconda3\\lib\\site-packages (from flask>=1.1.1->visualdl->paddleocr>=2.0.1) (8.0.4)\n",
      "Requirement already satisfied: itsdangerous>=0.24 in c:\\users\\emman\\anaconda3\\lib\\site-packages (from flask>=1.1.1->visualdl->paddleocr>=2.0.1) (2.0.1)\n",
      "Requirement already satisfied: Jinja2>=2.10.1 in c:\\users\\emman\\anaconda3\\lib\\site-packages (from flask>=1.1.1->visualdl->paddleocr>=2.0.1) (2.11.3)\n",
      "Requirement already satisfied: Werkzeug>=0.15 in c:\\users\\emman\\anaconda3\\lib\\site-packages (from flask>=1.1.1->visualdl->paddleocr>=2.0.1) (2.0.3)\n",
      "Requirement already satisfied: pytz in c:\\users\\emman\\anaconda3\\lib\\site-packages (from Flask-Babel>=1.0.0->visualdl->paddleocr>=2.0.1) (2022.7)\n",
      "Requirement already satisfied: Babel>=2.3 in c:\\users\\emman\\anaconda3\\lib\\site-packages (from Flask-Babel>=1.0.0->visualdl->paddleocr>=2.0.1) (2.11.0)\n",
      "Requirement already satisfied: filelock in c:\\users\\emman\\anaconda3\\lib\\site-packages (from huggingface-hub>=0.11.1->paddlenlp>=2.2.1->paddleocr>=2.0.1) (3.9.0)\n",
      "Requirement already satisfied: typing-extensions>=3.7.4.3 in c:\\users\\emman\\anaconda3\\lib\\site-packages (from huggingface-hub>=0.11.1->paddlenlp>=2.2.1->paddleocr>=2.0.1) (4.4.0)\n",
      "Requirement already satisfied: idna<4,>=2.5 in c:\\users\\emman\\anaconda3\\lib\\site-packages (from requests->premailer->paddleocr>=2.0.1) (3.4)\n",
      "Requirement already satisfied: charset-normalizer<3,>=2 in c:\\users\\emman\\anaconda3\\lib\\site-packages (from requests->premailer->paddleocr>=2.0.1) (2.0.4)\n",
      "Requirement already satisfied: urllib3<1.27,>=1.21.1 in c:\\users\\emman\\anaconda3\\lib\\site-packages (from requests->premailer->paddleocr>=2.0.1) (1.26.13)\n",
      "Requirement already satisfied: certifi>=2017.4.17 in c:\\users\\emman\\anaconda3\\lib\\site-packages (from requests->premailer->paddleocr>=2.0.1) (2022.12.7)\n",
      "Requirement already satisfied: future>=0.6.0 in c:\\users\\emman\\anaconda3\\lib\\site-packages (from bce-python-sdk->visualdl->paddleocr>=2.0.1) (0.18.2)\n",
      "Requirement already satisfied: pycryptodome>=3.8.0 in c:\\users\\emman\\appdata\\roaming\\python\\python39\\site-packages (from bce-python-sdk->visualdl->paddleocr>=2.0.1) (3.16.0)\n",
      "Requirement already satisfied: starlette==0.22.0 in c:\\users\\emman\\anaconda3\\lib\\site-packages (from fastapi->paddlenlp>=2.2.1->paddleocr>=2.0.1) (0.22.0)\n",
      "Requirement already satisfied: pydantic!=1.7,!=1.7.1,!=1.7.2,!=1.7.3,!=1.8,!=1.8.1,<2.0.0,>=1.6.2 in c:\\users\\emman\\anaconda3\\lib\\site-packages (from fastapi->paddlenlp>=2.2.1->paddleocr>=2.0.1) (1.10.4)\n",
      "Requirement already satisfied: anyio<5,>=3.4.0 in c:\\users\\emman\\anaconda3\\lib\\site-packages (from starlette==0.22.0->fastapi->paddlenlp>=2.2.1->paddleocr>=2.0.1) (3.5.0)\n",
      "Requirement already satisfied: python-dateutil>=2.7 in c:\\users\\emman\\anaconda3\\lib\\site-packages (from matplotlib->imgaug==0.4.0->paddleocr>=2.0.1) (2.8.2)\n",
      "Requirement already satisfied: cycler>=0.10 in c:\\users\\emman\\anaconda3\\lib\\site-packages (from matplotlib->imgaug==0.4.0->paddleocr>=2.0.1) (0.11.0)\n",
      "Requirement already satisfied: pyparsing>=2.2.1 in c:\\users\\emman\\anaconda3\\lib\\site-packages (from matplotlib->imgaug==0.4.0->paddleocr>=2.0.1) (3.0.9)\n",
      "Requirement already satisfied: kiwisolver>=1.0.1 in c:\\users\\emman\\anaconda3\\lib\\site-packages (from matplotlib->imgaug==0.4.0->paddleocr>=2.0.1) (1.4.4)\n",
      "Requirement already satisfied: contourpy>=1.0.1 in c:\\users\\emman\\anaconda3\\lib\\site-packages (from matplotlib->imgaug==0.4.0->paddleocr>=2.0.1) (1.0.5)\n",
      "Requirement already satisfied: fonttools>=4.22.0 in c:\\users\\emman\\anaconda3\\lib\\site-packages (from matplotlib->imgaug==0.4.0->paddleocr>=2.0.1) (4.25.0)\n",
      "Requirement already satisfied: commonmark<0.10.0,>=0.9.0 in c:\\users\\emman\\anaconda3\\lib\\site-packages (from rich->paddlenlp>=2.2.1->paddleocr>=2.0.1) (0.9.1)\n",
      "Requirement already satisfied: pygments<3.0.0,>=2.6.0 in c:\\users\\emman\\anaconda3\\lib\\site-packages (from rich->paddlenlp>=2.2.1->paddleocr>=2.0.1) (2.11.2)\n",
      "Requirement already satisfied: scikit-learn>=0.21.3 in c:\\users\\emman\\anaconda3\\lib\\site-packages (from seqeval->paddlenlp>=2.2.1->paddleocr>=2.0.1) (1.0.2)\n",
      "Requirement already satisfied: h11>=0.8 in c:\\users\\emman\\anaconda3\\lib\\site-packages (from uvicorn->paddlenlp>=2.2.1->paddleocr>=2.0.1) (0.14.0)\n",
      "Requirement already satisfied: async-timeout<5.0,>=4.0.0a3 in c:\\users\\emman\\anaconda3\\lib\\site-packages (from aiohttp->datasets>=2.0.0->paddlenlp>=2.2.1->paddleocr>=2.0.1) (4.0.2)\n",
      "Requirement already satisfied: frozenlist>=1.1.1 in c:\\users\\emman\\anaconda3\\lib\\site-packages (from aiohttp->datasets>=2.0.0->paddlenlp>=2.2.1->paddleocr>=2.0.1) (1.3.3)\n",
      "Requirement already satisfied: attrs>=17.3.0 in c:\\users\\emman\\anaconda3\\lib\\site-packages (from aiohttp->datasets>=2.0.0->paddlenlp>=2.2.1->paddleocr>=2.0.1) (22.1.0)\n",
      "Requirement already satisfied: multidict<7.0,>=4.5 in c:\\users\\emman\\anaconda3\\lib\\site-packages (from aiohttp->datasets>=2.0.0->paddlenlp>=2.2.1->paddleocr>=2.0.1) (6.0.4)\n",
      "Requirement already satisfied: aiosignal>=1.1.2 in c:\\users\\emman\\anaconda3\\lib\\site-packages (from aiohttp->datasets>=2.0.0->paddlenlp>=2.2.1->paddleocr>=2.0.1) (1.3.1)\n",
      "Requirement already satisfied: yarl<2.0,>=1.0 in c:\\users\\emman\\anaconda3\\lib\\site-packages (from aiohttp->datasets>=2.0.0->paddlenlp>=2.2.1->paddleocr>=2.0.1) (1.8.2)\n",
      "Requirement already satisfied: MarkupSafe>=0.23 in c:\\users\\emman\\anaconda3\\lib\\site-packages (from Jinja2>=2.10.1->flask>=1.1.1->visualdl->paddleocr>=2.0.1) (2.0.1)\n",
      "Requirement already satisfied: threadpoolctl>=2.0.0 in c:\\users\\emman\\anaconda3\\lib\\site-packages (from scikit-learn>=0.21.3->seqeval->paddlenlp>=2.2.1->paddleocr>=2.0.1) (2.2.0)\n",
      "Requirement already satisfied: joblib>=0.11 in c:\\users\\emman\\anaconda3\\lib\\site-packages (from scikit-learn>=0.21.3->seqeval->paddlenlp>=2.2.1->paddleocr>=2.0.1) (1.1.1)\n",
      "Requirement already satisfied: sniffio>=1.1 in c:\\users\\emman\\anaconda3\\lib\\site-packages (from anyio<5,>=3.4.0->starlette==0.22.0->fastapi->paddlenlp>=2.2.1->paddleocr>=2.0.1) (1.2.0)\n"
     ]
    }
   ],
   "source": [
    "!pip install \"paddleocr>=2.0.1\""
   ]
  },
  {
   "cell_type": "code",
   "execution_count": 2,
   "metadata": {},
   "outputs": [],
   "source": [
    "#from paddleocr import PaddleOCR,draw_ocr # main OCR dependencies\n",
    "from matplotlib import pyplot as plt # plot images\n",
    "import cv2 #opencv\n",
    "import os # folder directory navigation"
   ]
  },
  {
   "cell_type": "code",
   "execution_count": 2,
   "metadata": {},
   "outputs": [],
   "source": [
    "from paddleocr import PaddleOCR,draw_ocr"
   ]
  },
  {
   "cell_type": "code",
   "execution_count": null,
   "metadata": {},
   "outputs": [],
   "source": [
    "# Setup model\n",
    "ocr_model = PaddleOCR(lang='en')"
   ]
  },
  {
   "cell_type": "code",
   "execution_count": 1,
   "metadata": {},
   "outputs": [
    {
     "ename": "NameError",
     "evalue": "name 'os' is not defined",
     "output_type": "error",
     "traceback": [
      "\u001b[1;31m---------------------------------------------------------------------------\u001b[0m",
      "\u001b[1;31mNameError\u001b[0m                                 Traceback (most recent call last)",
      "\u001b[1;32m~\\AppData\\Local\\Temp\\ipykernel_9628\\2848142148.py\u001b[0m in \u001b[0;36m<module>\u001b[1;34m\u001b[0m\n\u001b[1;32m----> 1\u001b[1;33m \u001b[0mimg_path\u001b[0m \u001b[1;33m=\u001b[0m \u001b[0mos\u001b[0m\u001b[1;33m.\u001b[0m\u001b[0mpath\u001b[0m\u001b[1;33m.\u001b[0m\u001b[0mjoin\u001b[0m\u001b[1;33m(\u001b[0m\u001b[1;34m'.'\u001b[0m\u001b[1;33m,\u001b[0m \u001b[1;34m'images0.jpg'\u001b[0m\u001b[1;33m)\u001b[0m\u001b[1;33m\u001b[0m\u001b[1;33m\u001b[0m\u001b[0m\n\u001b[0m",
      "\u001b[1;31mNameError\u001b[0m: name 'os' is not defined"
     ]
    }
   ],
   "source": [
    "img_path = os.path.join('.', 'images0.jpg')"
   ]
  },
  {
   "cell_type": "code",
   "execution_count": 7,
   "metadata": {},
   "outputs": [
    {
     "ename": "NameError",
     "evalue": "name 'ocr_model' is not defined",
     "output_type": "error",
     "traceback": [
      "\u001b[1;31m---------------------------------------------------------------------------\u001b[0m",
      "\u001b[1;31mNameError\u001b[0m                                 Traceback (most recent call last)",
      "\u001b[1;32m~\\AppData\\Local\\Temp\\ipykernel_8312\\399733065.py\u001b[0m in \u001b[0;36m<module>\u001b[1;34m\u001b[0m\n\u001b[1;32m----> 1\u001b[1;33m \u001b[0mresult\u001b[0m \u001b[1;33m=\u001b[0m \u001b[0mocr_model\u001b[0m\u001b[1;33m.\u001b[0m\u001b[0mocr\u001b[0m\u001b[1;33m(\u001b[0m\u001b[0mimg_path\u001b[0m\u001b[1;33m)\u001b[0m\u001b[1;33m\u001b[0m\u001b[1;33m\u001b[0m\u001b[0m\n\u001b[0m",
      "\u001b[1;31mNameError\u001b[0m: name 'ocr_model' is not defined"
     ]
    }
   ],
   "source": [
    "result = ocr_model.ocr(img_path)"
   ]
  },
  {
   "cell_type": "code",
   "execution_count": 20,
   "metadata": {},
   "outputs": [
    {
     "data": {
      "text/plain": [
       "[[[[24.0, 16.0], [347.0, 12.0], [348.0, 95.0], [24.0, 98.0]],\n",
       "  ('RAB544E', 0.9932898)]]"
      ]
     },
     "execution_count": 20,
     "metadata": {},
     "output_type": "execute_result"
    }
   ],
   "source": [
    "result"
   ]
  },
  {
   "cell_type": "code",
   "execution_count": 21,
   "metadata": {},
   "outputs": [
    {
     "name": "stdout",
     "output_type": "stream",
     "text": [
      "RAB544E\n"
     ]
    }
   ],
   "source": [
    "for res in result:\n",
    "    print(res[1][0])"
   ]
  },
  {
   "cell_type": "code",
   "execution_count": null,
   "metadata": {},
   "outputs": [],
   "source": []
  }
 ],
 "metadata": {
  "kernelspec": {
   "display_name": "Python 3 (ipykernel)",
   "language": "python",
   "name": "python3"
  },
  "language_info": {
   "codemirror_mode": {
    "name": "ipython",
    "version": 3
   },
   "file_extension": ".py",
   "mimetype": "text/x-python",
   "name": "python",
   "nbconvert_exporter": "python",
   "pygments_lexer": "ipython3",
   "version": "3.11.1 (tags/v3.11.1:a7a450f, Dec  6 2022, 19:58:39) [MSC v.1934 64 bit (AMD64)]"
  },
  "vscode": {
   "interpreter": {
    "hash": "c261aea317cc0286b3b3261fbba9abdec21eaa57589985bb7a274bf54d6cc0a7"
   }
  }
 },
 "nbformat": 4,
 "nbformat_minor": 2
}
