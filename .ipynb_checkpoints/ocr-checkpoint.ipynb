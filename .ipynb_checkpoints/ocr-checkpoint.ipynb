{
 "cells": [
  {
   "cell_type": "code",
   "execution_count": 1,
   "metadata": {
    "scrolled": true
   },
   "outputs": [
    {
     "name": "stdout",
     "output_type": "stream",
     "text": [
      "Looking in indexes: https://mirror.baidu.com/pypi/simple\n",
      "Requirement already satisfied: paddlepaddle in c:\\users\\emman\\appdata\\roaming\\python\\python39\\site-packages (2.4.1)\n",
      "Requirement already satisfied: paddle-bfloat==0.1.7 in c:\\users\\emman\\appdata\\roaming\\python\\python39\\site-packages (from paddlepaddle) (0.1.7)\n",
      "Requirement already satisfied: numpy>=1.13 in c:\\users\\emman\\anaconda3\\lib\\site-packages (from paddlepaddle) (1.21.5)\n",
      "Requirement already satisfied: protobuf<=3.20.0,>=3.1.0 in c:\\users\\emman\\appdata\\roaming\\python\\python39\\site-packages (from paddlepaddle) (3.20.0)\n",
      "Requirement already satisfied: six in c:\\users\\emman\\anaconda3\\lib\\site-packages (from paddlepaddle) (1.16.0)\n",
      "Requirement already satisfied: requests>=2.20.0 in c:\\users\\emman\\anaconda3\\lib\\site-packages (from paddlepaddle) (2.28.1)\n",
      "Requirement already satisfied: opt-einsum==3.3.0 in c:\\users\\emman\\appdata\\roaming\\python\\python39\\site-packages (from paddlepaddle) (3.3.0)\n",
      "Requirement already satisfied: Pillow in c:\\users\\emman\\anaconda3\\lib\\site-packages (from paddlepaddle) (9.2.0)\n",
      "Requirement already satisfied: astor in c:\\users\\emman\\appdata\\roaming\\python\\python39\\site-packages (from paddlepaddle) (0.8.1)\n",
      "Requirement already satisfied: decorator in c:\\users\\emman\\anaconda3\\lib\\site-packages (from paddlepaddle) (5.1.1)\n",
      "Requirement already satisfied: urllib3<1.27,>=1.21.1 in c:\\users\\emman\\anaconda3\\lib\\site-packages (from requests>=2.20.0->paddlepaddle) (1.26.11)\n",
      "Requirement already satisfied: charset-normalizer<3,>=2 in c:\\users\\emman\\anaconda3\\lib\\site-packages (from requests>=2.20.0->paddlepaddle) (2.0.4)\n",
      "Requirement already satisfied: certifi>=2017.4.17 in c:\\users\\emman\\anaconda3\\lib\\site-packages (from requests>=2.20.0->paddlepaddle) (2022.9.14)\n",
      "Requirement already satisfied: idna<4,>=2.5 in c:\\users\\emman\\anaconda3\\lib\\site-packages (from requests>=2.20.0->paddlepaddle) (3.3)\n"
     ]
    }
   ],
   "source": [
    "!python -m pip install --user paddlepaddle -i https://mirror.baidu.com/pypi/simple"
   ]
  },
  {
   "cell_type": "code",
   "execution_count": 2,
   "metadata": {},
   "outputs": [
    {
     "name": "stdout",
     "output_type": "stream",
     "text": [
      "Requirement already satisfied: paddleocr in c:\\users\\emman\\appdata\\roaming\\python\\python39\\site-packages (2.6.1.2)\n",
      "Requirement already satisfied: python-docx in c:\\users\\emman\\appdata\\roaming\\python\\python39\\site-packages (from paddleocr) (0.8.11)\n",
      "Requirement already satisfied: numpy in c:\\users\\emman\\anaconda3\\lib\\site-packages (from paddleocr) (1.21.5)\n",
      "Requirement already satisfied: lmdb in c:\\users\\emman\\appdata\\roaming\\python\\python39\\site-packages (from paddleocr) (1.4.0)\n",
      "Requirement already satisfied: rapidfuzz in c:\\users\\emman\\appdata\\roaming\\python\\python39\\site-packages (from paddleocr) (2.13.7)\n",
      "Requirement already satisfied: opencv-contrib-python in c:\\users\\emman\\appdata\\roaming\\python\\python39\\site-packages (from paddleocr) (4.7.0.68)\n",
      "Requirement already satisfied: pyclipper in c:\\users\\emman\\appdata\\roaming\\python\\python39\\site-packages (from paddleocr) (1.3.0.post4)\n",
      "Requirement already satisfied: premailer in c:\\users\\emman\\appdata\\roaming\\python\\python39\\site-packages (from paddleocr) (3.10.0)\n",
      "Requirement already satisfied: attrdict in c:\\users\\emman\\appdata\\roaming\\python\\python39\\site-packages (from paddleocr) (2.0.1)\n",
      "Requirement already satisfied: tqdm in c:\\users\\emman\\anaconda3\\lib\\site-packages (from paddleocr) (4.64.1)\n",
      "Requirement already satisfied: fire>=0.3.0 in c:\\users\\emman\\appdata\\roaming\\python\\python39\\site-packages (from paddleocr) (0.5.0)\n",
      "Requirement already satisfied: pdf2docx in c:\\users\\emman\\appdata\\roaming\\python\\python39\\site-packages (from paddleocr) (0.5.6)\n",
      "Requirement already satisfied: cython in c:\\users\\emman\\anaconda3\\lib\\site-packages (from paddleocr) (0.29.32)\n",
      "Requirement already satisfied: beautifulsoup4 in c:\\users\\emman\\anaconda3\\lib\\site-packages (from paddleocr) (4.11.1)\n",
      "Requirement already satisfied: shapely in c:\\users\\emman\\appdata\\roaming\\python\\python39\\site-packages (from paddleocr) (2.0.0)\n",
      "Requirement already satisfied: PyMuPDF<1.21.0 in c:\\users\\emman\\appdata\\roaming\\python\\python39\\site-packages (from paddleocr) (1.20.2)\n",
      "Requirement already satisfied: opencv-python in c:\\users\\emman\\appdata\\roaming\\python\\python39\\site-packages (from paddleocr) (4.7.0.68)\n",
      "Requirement already satisfied: lxml in c:\\users\\emman\\anaconda3\\lib\\site-packages (from paddleocr) (4.9.1)\n",
      "Requirement already satisfied: fonttools>=4.24.0 in c:\\users\\emman\\anaconda3\\lib\\site-packages (from paddleocr) (4.25.0)\n",
      "Requirement already satisfied: scikit-image in c:\\users\\emman\\anaconda3\\lib\\site-packages (from paddleocr) (0.19.2)\n",
      "Requirement already satisfied: imgaug in c:\\users\\emman\\appdata\\roaming\\python\\python39\\site-packages (from paddleocr) (0.4.0)\n",
      "Requirement already satisfied: visualdl in c:\\users\\emman\\appdata\\roaming\\python\\python39\\site-packages (from paddleocr) (2.4.2)\n",
      "Requirement already satisfied: openpyxl in c:\\users\\emman\\anaconda3\\lib\\site-packages (from paddleocr) (3.0.10)\n",
      "Requirement already satisfied: termcolor in c:\\users\\emman\\appdata\\roaming\\python\\python39\\site-packages (from fire>=0.3.0->paddleocr) (2.2.0)\n",
      "Requirement already satisfied: six in c:\\users\\emman\\anaconda3\\lib\\site-packages (from fire>=0.3.0->paddleocr) (1.16.0)\n",
      "Requirement already satisfied: soupsieve>1.2 in c:\\users\\emman\\anaconda3\\lib\\site-packages (from beautifulsoup4->paddleocr) (2.3.1)\n",
      "Requirement already satisfied: imageio in c:\\users\\emman\\anaconda3\\lib\\site-packages (from imgaug->paddleocr) (2.19.3)\n",
      "Requirement already satisfied: matplotlib in c:\\users\\emman\\anaconda3\\lib\\site-packages (from imgaug->paddleocr) (3.5.2)\n",
      "Requirement already satisfied: scipy in c:\\users\\emman\\anaconda3\\lib\\site-packages (from imgaug->paddleocr) (1.9.1)\n",
      "Requirement already satisfied: Pillow in c:\\users\\emman\\anaconda3\\lib\\site-packages (from imgaug->paddleocr) (9.2.0)\n",
      "Requirement already satisfied: networkx>=2.2 in c:\\users\\emman\\anaconda3\\lib\\site-packages (from scikit-image->paddleocr) (2.8.4)\n",
      "Requirement already satisfied: tifffile>=2019.7.26 in c:\\users\\emman\\anaconda3\\lib\\site-packages (from scikit-image->paddleocr) (2021.7.2)\n",
      "Requirement already satisfied: PyWavelets>=1.1.1 in c:\\users\\emman\\anaconda3\\lib\\site-packages (from scikit-image->paddleocr) (1.3.0)\n",
      "Requirement already satisfied: packaging>=20.0 in c:\\users\\emman\\anaconda3\\lib\\site-packages (from scikit-image->paddleocr) (21.3)\n",
      "Requirement already satisfied: et_xmlfile in c:\\users\\emman\\anaconda3\\lib\\site-packages (from openpyxl->paddleocr) (1.1.0)\n",
      "Requirement already satisfied: cssselect in c:\\users\\emman\\anaconda3\\lib\\site-packages (from premailer->paddleocr) (1.1.0)\n",
      "Requirement already satisfied: requests in c:\\users\\emman\\anaconda3\\lib\\site-packages (from premailer->paddleocr) (2.28.1)\n",
      "Requirement already satisfied: cachetools in c:\\users\\emman\\appdata\\roaming\\python\\python39\\site-packages (from premailer->paddleocr) (5.2.1)\n",
      "Requirement already satisfied: cssutils in c:\\users\\emman\\appdata\\roaming\\python\\python39\\site-packages (from premailer->paddleocr) (2.6.0)\n",
      "Requirement already satisfied: colorama in c:\\users\\emman\\anaconda3\\lib\\site-packages (from tqdm->paddleocr) (0.4.5)\n",
      "Requirement already satisfied: multiprocess in c:\\users\\emman\\appdata\\roaming\\python\\python39\\site-packages (from visualdl->paddleocr) (0.70.14)\n",
      "Requirement already satisfied: flask>=1.1.1 in c:\\users\\emman\\anaconda3\\lib\\site-packages (from visualdl->paddleocr) (1.1.2)\n",
      "Requirement already satisfied: pandas in c:\\users\\emman\\anaconda3\\lib\\site-packages (from visualdl->paddleocr) (1.4.4)\n",
      "Requirement already satisfied: bce-python-sdk in c:\\users\\emman\\appdata\\roaming\\python\\python39\\site-packages (from visualdl->paddleocr) (0.8.74)\n",
      "Requirement already satisfied: protobuf>=3.11.0 in c:\\users\\emman\\appdata\\roaming\\python\\python39\\site-packages (from visualdl->paddleocr) (3.20.0)\n",
      "Requirement already satisfied: Flask-Babel>=1.0.0 in c:\\users\\emman\\appdata\\roaming\\python\\python39\\site-packages (from visualdl->paddleocr) (2.0.0)\n",
      "Requirement already satisfied: Werkzeug>=0.15 in c:\\users\\emman\\anaconda3\\lib\\site-packages (from flask>=1.1.1->visualdl->paddleocr) (2.0.3)\n",
      "Requirement already satisfied: click>=5.1 in c:\\users\\emman\\anaconda3\\lib\\site-packages (from flask>=1.1.1->visualdl->paddleocr) (8.0.4)\n",
      "Requirement already satisfied: Jinja2>=2.10.1 in c:\\users\\emman\\anaconda3\\lib\\site-packages (from flask>=1.1.1->visualdl->paddleocr) (2.11.3)\n",
      "Requirement already satisfied: itsdangerous>=0.24 in c:\\users\\emman\\anaconda3\\lib\\site-packages (from flask>=1.1.1->visualdl->paddleocr) (2.0.1)\n",
      "Requirement already satisfied: pytz in c:\\users\\emman\\anaconda3\\lib\\site-packages (from Flask-Babel>=1.0.0->visualdl->paddleocr) (2022.1)\n",
      "Requirement already satisfied: Babel>=2.3 in c:\\users\\emman\\anaconda3\\lib\\site-packages (from Flask-Babel>=1.0.0->visualdl->paddleocr) (2.9.1)\n",
      "Requirement already satisfied: pyparsing!=3.0.5,>=2.0.2 in c:\\users\\emman\\anaconda3\\lib\\site-packages (from packaging>=20.0->scikit-image->paddleocr) (3.0.9)\n",
      "Requirement already satisfied: pycryptodome>=3.8.0 in c:\\users\\emman\\appdata\\roaming\\python\\python39\\site-packages (from bce-python-sdk->visualdl->paddleocr) (3.16.0)\n",
      "Requirement already satisfied: future>=0.6.0 in c:\\users\\emman\\anaconda3\\lib\\site-packages (from bce-python-sdk->visualdl->paddleocr) (0.18.2)\n",
      "Requirement already satisfied: kiwisolver>=1.0.1 in c:\\users\\emman\\anaconda3\\lib\\site-packages (from matplotlib->imgaug->paddleocr) (1.4.2)\n",
      "Requirement already satisfied: cycler>=0.10 in c:\\users\\emman\\anaconda3\\lib\\site-packages (from matplotlib->imgaug->paddleocr) (0.11.0)\n",
      "Requirement already satisfied: python-dateutil>=2.7 in c:\\users\\emman\\anaconda3\\lib\\site-packages (from matplotlib->imgaug->paddleocr) (2.8.2)\n",
      "Requirement already satisfied: dill>=0.3.6 in c:\\users\\emman\\appdata\\roaming\\python\\python39\\site-packages (from multiprocess->visualdl->paddleocr) (0.3.6)\n",
      "Requirement already satisfied: urllib3<1.27,>=1.21.1 in c:\\users\\emman\\anaconda3\\lib\\site-packages (from requests->premailer->paddleocr) (1.26.11)\n",
      "Requirement already satisfied: idna<4,>=2.5 in c:\\users\\emman\\anaconda3\\lib\\site-packages (from requests->premailer->paddleocr) (3.3)\n",
      "Requirement already satisfied: charset-normalizer<3,>=2 in c:\\users\\emman\\anaconda3\\lib\\site-packages (from requests->premailer->paddleocr) (2.0.4)\n",
      "Requirement already satisfied: certifi>=2017.4.17 in c:\\users\\emman\\anaconda3\\lib\\site-packages (from requests->premailer->paddleocr) (2022.9.14)\n",
      "Requirement already satisfied: MarkupSafe>=0.23 in c:\\users\\emman\\anaconda3\\lib\\site-packages (from Jinja2>=2.10.1->flask>=1.1.1->visualdl->paddleocr) (2.0.1)\n"
     ]
    }
   ],
   "source": [
    "!pip install --user paddleocr"
   ]
  },
  {
   "cell_type": "code",
   "execution_count": 3,
   "metadata": {},
   "outputs": [
    {
     "name": "stderr",
     "output_type": "stream",
     "text": [
      "fatal: destination path 'PaddleOCR' already exists and is not an empty directory.\n"
     ]
    }
   ],
   "source": [
    "!git clone https://github.com/PaddlePaddle/PaddleOCR"
   ]
  },
  {
   "cell_type": "code",
   "execution_count": 4,
   "metadata": {},
   "outputs": [
    {
     "name": "stdout",
     "output_type": "stream",
     "text": [
      "Requirement already satisfied: opencv-python-headless in c:\\users\\emman\\anaconda3\\lib\\site-packages (4.7.0.68)\n",
      "Requirement already satisfied: numpy>=1.17.0 in c:\\users\\emman\\anaconda3\\lib\\site-packages (from opencv-python-headless) (1.21.5)\n"
     ]
    }
   ],
   "source": [
    "!pip install opencv-python-headless"
   ]
  },
  {
   "cell_type": "code",
   "execution_count": 6,
   "metadata": {},
   "outputs": [],
   "source": [
    "from paddleocr import PaddleOCR, draw_ocr # main OCR dependencies\n",
    "from matplotlib import pyplot as plt # plot images\n",
    "import cv2 #opencv\n",
    "import os # folder directory navigation"
   ]
  },
  {
   "cell_type": "code",
   "execution_count": null,
   "metadata": {},
   "outputs": [
    {
     "name": "stdout",
     "output_type": "stream",
     "text": [
      "[2023/01/13 14:44:51] ppocr DEBUG: Namespace(help='==SUPPRESS==', use_gpu=False, use_xpu=False, use_npu=False, ir_optim=True, use_tensorrt=False, min_subgraph_size=15, precision='fp32', gpu_mem=500, image_dir=None, page_num=0, det_algorithm='DB', det_model_dir='C:\\\\Users\\\\emman/.paddleocr/whl\\\\det\\\\en\\\\en_PP-OCRv3_det_infer', det_limit_side_len=960, det_limit_type='max', det_box_type='quad', det_db_thresh=0.3, det_db_box_thresh=0.6, det_db_unclip_ratio=1.5, max_batch_size=10, use_dilation=False, det_db_score_mode='fast', det_east_score_thresh=0.8, det_east_cover_thresh=0.1, det_east_nms_thresh=0.2, det_sast_score_thresh=0.5, det_sast_nms_thresh=0.2, det_pse_thresh=0, det_pse_box_thresh=0.85, det_pse_min_area=16, det_pse_scale=1, scales=[8, 16, 32], alpha=1.0, beta=1.0, fourier_degree=5, rec_algorithm='SVTR_LCNet', rec_model_dir='C:\\\\Users\\\\emman/.paddleocr/whl\\\\rec\\\\en\\\\en_PP-OCRv3_rec_infer', rec_image_inverse=True, rec_image_shape='3, 48, 320', rec_batch_num=6, max_text_length=25, rec_char_dict_path='C:\\\\Users\\\\emman\\\\AppData\\\\Roaming\\\\Python\\\\Python39\\\\site-packages\\\\paddleocr\\\\ppocr\\\\utils\\\\en_dict.txt', use_space_char=True, vis_font_path='./doc/fonts/simfang.ttf', drop_score=0.5, e2e_algorithm='PGNet', e2e_model_dir=None, e2e_limit_side_len=768, e2e_limit_type='max', e2e_pgnet_score_thresh=0.5, e2e_char_dict_path='./ppocr/utils/ic15_dict.txt', e2e_pgnet_valid_set='totaltext', e2e_pgnet_mode='fast', use_angle_cls=False, cls_model_dir='C:\\\\Users\\\\emman/.paddleocr/whl\\\\cls\\\\ch_ppocr_mobile_v2.0_cls_infer', cls_image_shape='3, 48, 192', label_list=['0', '180'], cls_batch_num=6, cls_thresh=0.9, enable_mkldnn=False, cpu_threads=10, use_pdserving=False, warmup=False, sr_model_dir=None, sr_image_shape='3, 32, 128', sr_batch_num=1, draw_img_save_dir='./inference_results', save_crop_res=False, crop_res_save_dir='./output', use_mp=False, total_process_num=1, process_id=0, benchmark=False, save_log_path='./log_output/', show_log=True, use_onnx=False, output='./output', table_max_len=488, table_algorithm='TableAttn', table_model_dir=None, merge_no_span_structure=True, table_char_dict_path=None, layout_model_dir=None, layout_dict_path=None, layout_score_threshold=0.5, layout_nms_threshold=0.5, kie_algorithm='LayoutXLM', ser_model_dir=None, re_model_dir=None, use_visual_backbone=True, ser_dict_path='../train_data/XFUND/class_list_xfun.txt', ocr_order_method=None, mode='structure', image_orientation=False, layout=True, table=True, ocr=True, recovery=False, use_pdf2docx_api=False, lang='en', det=True, rec=True, type='ocr', ocr_version='PP-OCRv3', structure_version='PP-StructureV2')\n"
     ]
    }
   ],
   "source": [
    "# Setup model\n",
    "ocr_model = PaddleOCR(lang='en')"
   ]
  },
  {
   "cell_type": "code",
   "execution_count": 22,
   "metadata": {},
   "outputs": [],
   "source": [
    "img_path = os.path.join('.', 'images0.jpg')"
   ]
  },
  {
   "cell_type": "code",
   "execution_count": 19,
   "metadata": {},
   "outputs": [
    {
     "name": "stdout",
     "output_type": "stream",
     "text": [
      "[2022/03/15 12:49:23] root WARNING: Since the angle classifier is not initialized, the angle classifier will not be uesd during the forward process\n",
      "[2022/03/15 12:49:23] root DEBUG: dt_boxes num : 1, elapse : 0.08108639717102051\n",
      "[2022/03/15 12:49:23] root DEBUG: rec_res num  : 1, elapse : 0.037339210510253906\n"
     ]
    }
   ],
   "source": [
    "result = ocr_model.ocr(img_path)"
   ]
  },
  {
   "cell_type": "code",
   "execution_count": 20,
   "metadata": {},
   "outputs": [
    {
     "data": {
      "text/plain": [
       "[[[[24.0, 16.0], [347.0, 12.0], [348.0, 95.0], [24.0, 98.0]],\n",
       "  ('RAB544E', 0.9932898)]]"
      ]
     },
     "execution_count": 20,
     "metadata": {},
     "output_type": "execute_result"
    }
   ],
   "source": [
    "result"
   ]
  },
  {
   "cell_type": "code",
   "execution_count": 21,
   "metadata": {},
   "outputs": [
    {
     "name": "stdout",
     "output_type": "stream",
     "text": [
      "RAB544E\n"
     ]
    }
   ],
   "source": [
    "for res in result:\n",
    "    print(res[1][0])"
   ]
  },
  {
   "cell_type": "code",
   "execution_count": null,
   "metadata": {},
   "outputs": [],
   "source": []
  }
 ],
 "metadata": {
  "kernelspec": {
   "display_name": "Python 3 (ipykernel)",
   "language": "python",
   "name": "python3"
  },
  "language_info": {
   "codemirror_mode": {
    "name": "ipython",
    "version": 3
   },
   "file_extension": ".py",
   "mimetype": "text/x-python",
   "name": "python",
   "nbconvert_exporter": "python",
   "pygments_lexer": "ipython3",
   "version": "3.9.13"
  },
  "vscode": {
   "interpreter": {
    "hash": "c261aea317cc0286b3b3261fbba9abdec21eaa57589985bb7a274bf54d6cc0a7"
   }
  }
 },
 "nbformat": 4,
 "nbformat_minor": 2
}
