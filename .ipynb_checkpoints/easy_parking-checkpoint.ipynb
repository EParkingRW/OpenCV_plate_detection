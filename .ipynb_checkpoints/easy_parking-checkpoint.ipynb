{
 "cells": [
  {
   "cell_type": "markdown",
   "metadata": {},
   "source": [
    "# Easy_parking System"
   ]
  },
  {
   "cell_type": "markdown",
   "metadata": {},
   "source": [
    "### importing all models"
   ]
  },
  {
   "cell_type": "code",
   "execution_count": 3,
   "metadata": {},
   "outputs": [
    {
     "name": "stderr",
     "output_type": "stream",
     "text": [
      "C:\\ProgramData\\Anaconda3\\lib\\site-packages\\pywt\\_utils.py:6: DeprecationWarning: Using or importing the ABCs from 'collections' instead of from 'collections.abc' is deprecated, and in 3.8 it will stop working\n",
      "  from collections import Iterable\n"
     ]
    },
    {
     "name": "stdout",
     "output_type": "stream",
     "text": [
      "Namespace(benchmark=False, cls_batch_num=6, cls_image_shape='3, 48, 192', cls_model_dir='C:\\\\Users\\\\HP/.paddleocr/2.4\\\\ocr\\\\cls\\\\ch_ppocr_mobile_v2.0_cls_infer', cls_thresh=0.9, cpu_threads=10, crop_res_save_dir='./output', det=True, det_algorithm='DB', det_db_box_thresh=0.6, det_db_score_mode='fast', det_db_thresh=0.3, det_db_unclip_ratio=1.5, det_east_cover_thresh=0.1, det_east_nms_thresh=0.2, det_east_score_thresh=0.8, det_limit_side_len=960, det_limit_type='max', det_model_dir='C:\\\\Users\\\\HP/.paddleocr/2.4\\\\ocr\\\\det\\\\en\\\\en_ppocr_mobile_v2.0_det_infer', det_pse_box_thresh=0.85, det_pse_box_type='box', det_pse_min_area=16, det_pse_scale=1, det_pse_thresh=0, det_sast_nms_thresh=0.2, det_sast_polygon=False, det_sast_score_thresh=0.5, draw_img_save_dir='./inference_results', drop_score=0.5, e2e_algorithm='PGNet', e2e_char_dict_path='./ppocr/utils/ic15_dict.txt', e2e_limit_side_len=768, e2e_limit_type='max', e2e_model_dir=None, e2e_pgnet_mode='fast', e2e_pgnet_score_thresh=0.5, e2e_pgnet_valid_set='totaltext', enable_mkldnn=False, gpu_mem=500, help='==SUPPRESS==', image_dir=None, ir_optim=True, label_list=['0', '180'], label_map_path='./vqa/labels/labels_ser.txt', lang='en', layout_path_model='lp://PubLayNet/ppyolov2_r50vd_dcn_365e_publaynet/config', max_batch_size=10, max_seq_length=512, max_text_length=25, min_subgraph_size=15, mode='structure', model_name_or_path=None, ocr_version='PP-OCRv2', output='./output', precision='fp32', process_id=0, rec=True, rec_algorithm='CRNN', rec_batch_num=6, rec_char_dict_path='C:\\\\Users\\\\HP\\\\AppData\\\\Roaming\\\\Python\\\\Python37\\\\site-packages\\\\paddleocr\\\\ppocr\\\\utils\\\\en_dict.txt', rec_image_shape='3, 32, 320', rec_model_dir='C:\\\\Users\\\\HP/.paddleocr/2.4\\\\ocr\\\\rec\\\\en\\\\en_number_mobile_v2.0_rec_infer', save_crop_res=False, save_log_path='./log_output/', show_log=True, structure_version='STRUCTURE', table_char_dict_path=None, table_char_type='en', table_max_len=488, table_model_dir=None, total_process_num=1, type='ocr', use_angle_cls=False, use_dilation=False, use_gpu=False, use_mp=False, use_onnx=False, use_pdserving=False, use_space_char=True, use_tensorrt=False, vis_font_path='./doc/fonts/simfang.ttf', warmup=False)\n"
     ]
    }
   ],
   "source": [
    "import cv2\n",
    "import numpy as np\n",
    "\n",
    "from paddleocr import PaddleOCR, draw_ocr # main OCR dependencies\n",
    "from matplotlib import pyplot as plt # plot images\n",
    "import cv2 #opencv\n",
    "import os # folder directory navigation\n",
    "import base64\n",
    "\n",
    "import requests\n",
    "import json\n",
    "\n",
    "\n",
    "\n",
    "# Setup model\n",
    "ocr_model = PaddleOCR(lang='en')"
   ]
  },
  {
   "cell_type": "markdown",
   "metadata": {},
   "source": [
    "### sender function"
   ]
  },
  {
   "cell_type": "code",
   "execution_count": 4,
   "metadata": {},
   "outputs": [],
   "source": [
    "def sender(json,files):\n",
    "    \n",
    "    url = \"https://smartiparking.herokuapp.com/api/v1/vehicles/create\"\n",
    "\n",
    "    payload = json\n",
    "    headers = {'Content-type': 'application/json', 'Accept': 'text/plain'}\n",
    "    headers = {}\n",
    "\n",
    "    response = requests.request(\"POST\", api, headers=headers, data=payload, files=files)\n",
    "    \n",
    "    response = requests.request(\"POST\", url, headers=headers, data=payload)\n",
    "\n",
    "    print(response.text)"
   ]
  },
  {
   "cell_type": "markdown",
   "metadata": {},
   "source": [
    "### ocr function"
   ]
  },
  {
   "cell_type": "code",
   "execution_count": 5,
   "metadata": {},
   "outputs": [
    {
     "name": "stdout",
     "output_type": "stream",
     "text": [
      "[2022/04/22 10:11:55] root WARNING: Since the angle classifier is not initialized, the angle classifier will not be uesd during the forward process\n",
      "[2022/04/22 10:11:55] root DEBUG: dt_boxes num : 1, elapse : 0.11788821220397949\n",
      "[2022/04/22 10:11:55] root DEBUG: rec_res num  : 1, elapse : 0.028456449508666992\n"
     ]
    }
   ],
   "source": [
    "\n",
    "def ocr(imgP):\n",
    "    \n",
    "    ten=''\n",
    "    result = ocr_model.ocr(img_path)\n",
    "    for res in result:\n",
    "        \n",
    "        ten=ten+res[1][0]\n",
    "#         print(ten)\n",
    "    return ten\n",
    "   \n",
    "\n",
    "img_path = os.path.join('.', 'images0.jpg')\n",
    "kenzo=ocr(img_path)\n"
   ]
  },
  {
   "cell_type": "code",
   "execution_count": null,
   "metadata": {},
   "outputs": [],
   "source": []
  },
  {
   "cell_type": "code",
   "execution_count": 7,
   "metadata": {},
   "outputs": [
    {
     "name": "stdout",
     "output_type": "stream",
     "text": [
      "<class 'list'>\n",
      "{\"status\":201,\"data\":{\"message\":\"Vehicle saved successfuly\",\"data\":{\"id\":26,\"plateText\":\"RAB324C\",\"imageUrl\":\"https://res.cloudinary.com/http-voicetoworld-netlify-app/image/upload/v1650615200/projects/smartparking/038b2efb-6d96-4235-9edc-d44ed8f47bed_1650615200.436.jpg\",\"updatedAt\":\"2022-04-22T08:13:20.881Z\",\"createdAt\":\"2022-04-22T08:13:20.881Z\"}}}\n"
     ]
    }
   ],
   "source": [
    "import base64\n",
    "import json                    \n",
    "\n",
    "import requests\n",
    "\n",
    "api = 'https://smartiparking.herokuapp.com/api/v1/vehicles/create'\n",
    "#url = \"https://0805-105-178-48-6.ngrok.io/api/v1/Vehicles/create\"\n",
    "\n",
    "payload={'plateText': 'RAB324C'}\n",
    "files=[\n",
    "  ('photo',('images1.jpg',open('images1.jpg','rb'),'image/jpeg'))\n",
    "]\n",
    "print(type(files))\n",
    "headers = {}\n",
    "\n",
    "response = requests.request(\"POST\", api, headers=headers, data=payload, files=files)\n",
    "\n",
    "print(response.text)"
   ]
  },
  {
   "cell_type": "markdown",
   "metadata": {},
   "source": [
    "### bring it all together"
   ]
  },
  {
   "cell_type": "code",
   "execution_count": 8,
   "metadata": {},
   "outputs": [
    {
     "name": "stdout",
     "output_type": "stream",
     "text": [
      "[2022/04/22 10:14:17] root WARNING: Since the angle classifier is not initialized, the angle classifier will not be uesd during the forward process\n",
      "[2022/04/22 10:14:17] root DEBUG: dt_boxes num : 3, elapse : 0.08796882629394531\n",
      "[2022/04/22 10:14:17] root DEBUG: rec_res num  : 3, elapse : 0.07426714897155762\n",
      "[2022/04/22 10:14:17] root WARNING: Since the angle classifier is not initialized, the angle classifier will not be uesd during the forward process\n",
      "[2022/04/22 10:14:17] root DEBUG: dt_boxes num : 3, elapse : 0.08753442764282227\n",
      "[2022/04/22 10:14:17] root DEBUG: rec_res num  : 3, elapse : 0.08432364463806152\n",
      "<class 'list'>\n"
     ]
    }
   ],
   "source": [
    "\n",
    "frameWidth = 640    #Frame Width\n",
    "franeHeight = 480   # Frame Height\n",
    "\n",
    "plateCascade = cv2.CascadeClassifier(cv2.data.haarcascades +\"haarcascade_russian_plate_number.xml\")\n",
    "minArea = 500\n",
    "\n",
    "cap =cv2.VideoCapture(0)\n",
    "cap.set(3,frameWidth)\n",
    "cap.set(4,franeHeight)\n",
    "cap.set(10,150)\n",
    "count = 0\n",
    "\n",
    "while True:\n",
    "    success , img  = cap.read()\n",
    "\n",
    "    imgGray = cv2.cvtColor(img, cv2.COLOR_BGR2GRAY)\n",
    "\n",
    "    numberPlates = plateCascade .detectMultiScale(imgGray, 1.1, 4)\n",
    "\n",
    "    for (x, y, w, h) in numberPlates:\n",
    "        area = w*h\n",
    "        if area > minArea:\n",
    "            cv2.rectangle(img, (x, y), (x + w, y + h), (255, 0, 0), 2)\n",
    "            cv2.putText(img,\"NumberPlate\",(x,y-5),cv2.FONT_HERSHEY_COMPLEX,1,(0,0,255),2)\n",
    "            imgRoi = img[y:y+h,x:x+w]\n",
    "            cv2.imshow(\"ROI\",imgRoi)\n",
    "            \n",
    "   \n",
    "    cv2.imshow(\"Result\",img)\n",
    "    \n",
    "    if cv2.waitKey(1) & 0xFF ==ord('s'):\n",
    "        cv2.imwrite(\"./images\"+str(count)+\".jpg\",imgRoi)\n",
    "        cv2.rectangle(img,(0,200),(640,300),(0,255,0),cv2.FILLED)\n",
    "        cv2.putText(img,\"Scan Saved\",(15,265),cv2.FONT_HERSHEY_COMPLEX,2,(0,0,255),2)\n",
    "        cv2.imshow(\"Result\",img)\n",
    "        ocr(img)\n",
    "        kenzo=ocr(imgRoi)   \n",
    "        son={'plateText': kenzo}\n",
    "        files=[\n",
    "         ('photo',(\"images\"+str(count)+\".jpg\",open(\"images\"+str(count)+\".jpg\",'rb'),'image/jpeg'))\n",
    "          ]\n",
    "        print(type(files))\n",
    "        payload={'plateText': kenzo}\n",
    "#         payload = json.dumps(son )\n",
    "        response = requests.request(\"POST\", api, headers=headers, data=payload, files=files)\n",
    "#         sender(payload,files)\n",
    "        cv2.waitKey(500)\n",
    "        count+=1\n",
    "        cap.release()\n",
    "        cv2.destroyAllWindows()\n",
    "        break\n",
    "        \n",
    "      "
   ]
  },
  {
   "cell_type": "code",
   "execution_count": null,
   "metadata": {},
   "outputs": [],
   "source": [
    "\n"
   ]
  },
  {
   "cell_type": "code",
   "execution_count": null,
   "metadata": {},
   "outputs": [],
   "source": []
  }
 ],
 "metadata": {
  "kernelspec": {
   "display_name": "Python 3",
   "language": "python",
   "name": "python3"
  },
  "language_info": {
   "codemirror_mode": {
    "name": "ipython",
    "version": 3
   },
   "file_extension": ".py",
   "mimetype": "text/x-python",
   "name": "python",
   "nbconvert_exporter": "python",
   "pygments_lexer": "ipython3",
   "version": "3.7.3"
  }
 },
 "nbformat": 4,
 "nbformat_minor": 2
}
