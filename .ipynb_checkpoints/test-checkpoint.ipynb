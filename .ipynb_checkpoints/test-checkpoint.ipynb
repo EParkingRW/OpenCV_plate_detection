{
 "cells": [
  {
   "cell_type": "code",
   "execution_count": 2,
   "id": "cfc2b300",
   "metadata": {},
   "outputs": [
    {
     "name": "stdout",
     "output_type": "stream",
     "text": [
      "Looking in indexes: https://mirror.baidu.com/pypi/simple\n",
      "Collecting paddlepaddle-gpu==2.1.0\n",
      "  Downloading https://mirror.baidu.com/pypi/packages/0a/ad/b9a1725a112e2108b89779d9faa78d9f77714e5819528cf5e7829d166bdf/paddlepaddle_gpu-2.1.0-cp39-cp39-win_amd64.whl (445.3 MB)\n",
      "     -------------------------------------- 445.3/445.3 MB 1.0 MB/s eta 0:00:00\n",
      "Collecting numpy<=1.19.3,>=1.13\n",
      "  Downloading https://mirror.baidu.com/pypi/packages/47/d8/41f71e08248b487e90eb6b5823077e93a8991be92b026b9727d4478e83af/numpy-1.19.3-cp39-cp39-win_amd64.whl (13.3 MB)\n",
      "     ---------------------------------------- 13.3/13.3 MB 4.2 MB/s eta 0:00:00\n",
      "Requirement already satisfied: six in c:\\users\\emman\\anaconda3\\lib\\site-packages (from paddlepaddle-gpu==2.1.0) (1.16.0)\n",
      "Requirement already satisfied: Pillow in c:\\users\\emman\\anaconda3\\lib\\site-packages (from paddlepaddle-gpu==2.1.0) (9.3.0)\n",
      "Requirement already satisfied: requests>=2.20.0 in c:\\users\\emman\\anaconda3\\lib\\site-packages (from paddlepaddle-gpu==2.1.0) (2.28.1)\n",
      "Collecting gast==0.3.3\n",
      "  Downloading https://mirror.baidu.com/pypi/packages/d6/84/759f5dd23fec8ba71952d97bcc7e2c9d7d63bdc582421f3cd4be845f0c98/gast-0.3.3-py2.py3-none-any.whl (9.7 kB)\n",
      "Collecting decorator==4.4.2\n",
      "  Downloading https://mirror.baidu.com/pypi/packages/ed/1b/72a1821152d07cf1d8b6fce298aeb06a7eb90f4d6d41acec9861e7cc6df0/decorator-4.4.2-py2.py3-none-any.whl (9.2 kB)\n",
      "Requirement already satisfied: astor in c:\\users\\emman\\appdata\\roaming\\python\\python39\\site-packages (from paddlepaddle-gpu==2.1.0) (0.8.1)\n",
      "Requirement already satisfied: protobuf>=3.1.0 in c:\\users\\emman\\appdata\\roaming\\python\\python39\\site-packages (from paddlepaddle-gpu==2.1.0) (3.20.0)\n",
      "Requirement already satisfied: certifi>=2017.4.17 in c:\\users\\emman\\anaconda3\\lib\\site-packages (from requests>=2.20.0->paddlepaddle-gpu==2.1.0) (2022.12.7)\n",
      "Requirement already satisfied: urllib3<1.27,>=1.21.1 in c:\\users\\emman\\anaconda3\\lib\\site-packages (from requests>=2.20.0->paddlepaddle-gpu==2.1.0) (1.26.13)\n",
      "Requirement already satisfied: idna<4,>=2.5 in c:\\users\\emman\\anaconda3\\lib\\site-packages (from requests>=2.20.0->paddlepaddle-gpu==2.1.0) (3.4)\n",
      "Requirement already satisfied: charset-normalizer<3,>=2 in c:\\users\\emman\\anaconda3\\lib\\site-packages (from requests>=2.20.0->paddlepaddle-gpu==2.1.0) (2.0.4)\n",
      "Installing collected packages: numpy, gast, decorator, paddlepaddle-gpu\n",
      "  Attempting uninstall: numpy\n",
      "    Found existing installation: numpy 1.23.5\n",
      "    Uninstalling numpy-1.23.5:\n",
      "      Successfully uninstalled numpy-1.23.5\n",
      "  Attempting uninstall: decorator\n",
      "    Found existing installation: decorator 5.1.1\n",
      "    Uninstalling decorator-5.1.1:\n",
      "      Successfully uninstalled decorator-5.1.1\n",
      "Successfully installed decorator-4.4.2 gast-0.3.3 numpy-1.19.3 paddlepaddle-gpu-2.1.0\n"
     ]
    },
    {
     "name": "stderr",
     "output_type": "stream",
     "text": [
      "ERROR: pip's dependency resolver does not currently take into account all the packages that are installed. This behaviour is the source of the following dependency conflicts.\n",
      "daal4py 2021.6.0 requires daal==2021.4.0, which is not installed.\n",
      "xarray 2022.11.0 requires numpy>=1.20, but you have numpy 1.19.3 which is incompatible.\n"
     ]
    }
   ],
   "source": [
    "# GitHub repo installation of paddle\n",
    "!python -m pip install paddlepaddle-gpu==2.1.0 -i https://mirror.baidu.com/pypi/simple"
   ]
  },
  {
   "cell_type": "code",
   "execution_count": 3,
   "id": "38cf1f5a",
   "metadata": {},
   "outputs": [
    {
     "name": "stdout",
     "output_type": "stream",
     "text": [
      "Requirement already satisfied: paddleocr in c:\\users\\emman\\anaconda3\\lib\\site-packages (2.4)\n",
      "Requirement already satisfied: shapely in c:\\users\\emman\\appdata\\roaming\\python\\python39\\site-packages (from paddleocr) (2.0.0)\n",
      "Requirement already satisfied: opencv-contrib-python==4.4.0.46 in c:\\users\\emman\\anaconda3\\lib\\site-packages (from paddleocr) (4.4.0.46)\n",
      "Requirement already satisfied: pyclipper in c:\\users\\emman\\appdata\\roaming\\python\\python39\\site-packages (from paddleocr) (1.3.0.post4)\n",
      "Requirement already satisfied: paddlenlp>=2.2.1 in c:\\users\\emman\\anaconda3\\lib\\site-packages (from paddleocr) (2.5.0)\n",
      "Requirement already satisfied: python-Levenshtein in c:\\users\\emman\\anaconda3\\lib\\site-packages (from paddleocr) (0.20.9)\n",
      "Requirement already satisfied: premailer in c:\\users\\emman\\appdata\\roaming\\python\\python39\\site-packages (from paddleocr) (3.10.0)\n",
      "Requirement already satisfied: tqdm in c:\\users\\emman\\anaconda3\\lib\\site-packages (from paddleocr) (4.64.1)\n",
      "Requirement already satisfied: openpyxl in c:\\users\\emman\\anaconda3\\lib\\site-packages (from paddleocr) (3.0.10)\n",
      "Requirement already satisfied: cython in c:\\users\\emman\\anaconda3\\lib\\site-packages (from paddleocr) (0.29.32)\n",
      "Requirement already satisfied: visualdl in c:\\users\\emman\\appdata\\roaming\\python\\python39\\site-packages (from paddleocr) (2.4.2)\n",
      "Requirement already satisfied: lmdb in c:\\users\\emman\\appdata\\roaming\\python\\python39\\site-packages (from paddleocr) (1.4.0)\n",
      "Requirement already satisfied: scikit-image in c:\\users\\emman\\anaconda3\\lib\\site-packages (from paddleocr) (0.19.3)\n",
      "Requirement already satisfied: lxml in c:\\users\\emman\\anaconda3\\lib\\site-packages (from paddleocr) (4.9.1)\n",
      "Requirement already satisfied: numpy in c:\\users\\emman\\anaconda3\\lib\\site-packages (from paddleocr) (1.19.3)\n",
      "Requirement already satisfied: imgaug==0.4.0 in c:\\users\\emman\\appdata\\roaming\\python\\python39\\site-packages (from paddleocr) (0.4.0)\n",
      "Requirement already satisfied: scipy in c:\\users\\emman\\anaconda3\\lib\\site-packages (from imgaug==0.4.0->paddleocr) (1.9.3)\n",
      "Requirement already satisfied: Pillow in c:\\users\\emman\\anaconda3\\lib\\site-packages (from imgaug==0.4.0->paddleocr) (9.3.0)\n",
      "Requirement already satisfied: six in c:\\users\\emman\\anaconda3\\lib\\site-packages (from imgaug==0.4.0->paddleocr) (1.16.0)\n",
      "Requirement already satisfied: matplotlib in c:\\users\\emman\\anaconda3\\lib\\site-packages (from imgaug==0.4.0->paddleocr) (3.6.2)\n",
      "Requirement already satisfied: opencv-python in c:\\users\\emman\\appdata\\roaming\\python\\python39\\site-packages (from imgaug==0.4.0->paddleocr) (4.7.0.68)\n",
      "Requirement already satisfied: imageio in c:\\users\\emman\\anaconda3\\lib\\site-packages (from imgaug==0.4.0->paddleocr) (2.19.3)\n",
      "Requirement already satisfied: huggingface-hub>=0.11.1 in c:\\users\\emman\\anaconda3\\lib\\site-packages (from paddlenlp>=2.2.1->paddleocr) (0.11.1)\n",
      "Requirement already satisfied: fastapi in c:\\users\\emman\\anaconda3\\lib\\site-packages (from paddlenlp>=2.2.1->paddleocr) (0.89.1)\n",
      "Requirement already satisfied: typer in c:\\users\\emman\\anaconda3\\lib\\site-packages (from paddlenlp>=2.2.1->paddleocr) (0.7.0)\n",
      "Requirement already satisfied: seqeval in c:\\users\\emman\\anaconda3\\lib\\site-packages (from paddlenlp>=2.2.1->paddleocr) (1.2.2)\n",
      "Requirement already satisfied: paddlefsl in c:\\users\\emman\\anaconda3\\lib\\site-packages (from paddlenlp>=2.2.1->paddleocr) (1.1.0)\n",
      "Requirement already satisfied: colorama in c:\\users\\emman\\anaconda3\\lib\\site-packages (from paddlenlp>=2.2.1->paddleocr) (0.4.6)\n",
      "Requirement already satisfied: rich in c:\\users\\emman\\anaconda3\\lib\\site-packages (from paddlenlp>=2.2.1->paddleocr) (13.0.1)\n",
      "Requirement already satisfied: jieba in c:\\users\\emman\\anaconda3\\lib\\site-packages (from paddlenlp>=2.2.1->paddleocr) (0.42.1)\n",
      "Requirement already satisfied: colorlog in c:\\users\\emman\\anaconda3\\lib\\site-packages (from paddlenlp>=2.2.1->paddleocr) (6.7.0)\n",
      "Requirement already satisfied: sentencepiece in c:\\users\\emman\\anaconda3\\lib\\site-packages (from paddlenlp>=2.2.1->paddleocr) (0.1.97)\n",
      "Requirement already satisfied: dill<0.3.5 in c:\\users\\emman\\appdata\\roaming\\python\\python39\\site-packages (from paddlenlp>=2.2.1->paddleocr) (0.3.4)\n",
      "Requirement already satisfied: datasets>=2.0.0 in c:\\users\\emman\\anaconda3\\lib\\site-packages (from paddlenlp>=2.2.1->paddleocr) (2.8.0)\n",
      "Requirement already satisfied: paddle2onnx in c:\\users\\emman\\anaconda3\\lib\\site-packages (from paddlenlp>=2.2.1->paddleocr) (1.0.5)\n",
      "Requirement already satisfied: multiprocess<=0.70.12.2 in c:\\users\\emman\\anaconda3\\lib\\site-packages (from paddlenlp>=2.2.1->paddleocr) (0.70.12.2)\n",
      "Requirement already satisfied: protobuf<=3.20.0,>=3.1.0 in c:\\users\\emman\\appdata\\roaming\\python\\python39\\site-packages (from paddlenlp>=2.2.1->paddleocr) (3.20.0)\n",
      "Requirement already satisfied: uvicorn in c:\\users\\emman\\anaconda3\\lib\\site-packages (from paddlenlp>=2.2.1->paddleocr) (0.20.0)\n",
      "Requirement already satisfied: PyWavelets>=1.1.1 in c:\\users\\emman\\anaconda3\\lib\\site-packages (from scikit-image->paddleocr) (1.4.1)\n",
      "Requirement already satisfied: networkx>=2.2 in c:\\users\\emman\\anaconda3\\lib\\site-packages (from scikit-image->paddleocr) (2.8.4)\n",
      "Requirement already satisfied: packaging>=20.0 in c:\\users\\emman\\anaconda3\\lib\\site-packages (from scikit-image->paddleocr) (22.0)\n",
      "Requirement already satisfied: tifffile>=2019.7.26 in c:\\users\\emman\\anaconda3\\lib\\site-packages (from scikit-image->paddleocr) (2021.7.2)\n",
      "Requirement already satisfied: et_xmlfile in c:\\users\\emman\\anaconda3\\lib\\site-packages (from openpyxl->paddleocr) (1.1.0)\n",
      "Requirement already satisfied: requests in c:\\users\\emman\\anaconda3\\lib\\site-packages (from premailer->paddleocr) (2.28.1)\n",
      "Requirement already satisfied: cssselect in c:\\users\\emman\\anaconda3\\lib\\site-packages (from premailer->paddleocr) (1.1.0)\n",
      "Requirement already satisfied: cssutils in c:\\users\\emman\\appdata\\roaming\\python\\python39\\site-packages (from premailer->paddleocr) (2.6.0)\n",
      "Requirement already satisfied: cachetools in c:\\users\\emman\\appdata\\roaming\\python\\python39\\site-packages (from premailer->paddleocr) (5.2.1)\n",
      "Requirement already satisfied: Levenshtein==0.20.9 in c:\\users\\emman\\anaconda3\\lib\\site-packages (from python-Levenshtein->paddleocr) (0.20.9)\n",
      "Requirement already satisfied: rapidfuzz<3.0.0,>=2.3.0 in c:\\users\\emman\\appdata\\roaming\\python\\python39\\site-packages (from Levenshtein==0.20.9->python-Levenshtein->paddleocr) (2.13.7)\n",
      "Requirement already satisfied: flask>=1.1.1 in c:\\users\\emman\\anaconda3\\lib\\site-packages (from visualdl->paddleocr) (1.1.2)\n",
      "Requirement already satisfied: bce-python-sdk in c:\\users\\emman\\appdata\\roaming\\python\\python39\\site-packages (from visualdl->paddleocr) (0.8.74)\n",
      "Requirement already satisfied: pandas in c:\\users\\emman\\anaconda3\\lib\\site-packages (from visualdl->paddleocr) (1.4.4)\n",
      "Requirement already satisfied: Flask-Babel>=1.0.0 in c:\\users\\emman\\appdata\\roaming\\python\\python39\\site-packages (from visualdl->paddleocr) (2.0.0)\n",
      "Requirement already satisfied: pyyaml>=5.1 in c:\\users\\emman\\anaconda3\\lib\\site-packages (from datasets>=2.0.0->paddlenlp>=2.2.1->paddleocr) (6.0)\n",
      "Requirement already satisfied: pyarrow>=6.0.0 in c:\\users\\emman\\anaconda3\\lib\\site-packages (from datasets>=2.0.0->paddlenlp>=2.2.1->paddleocr) (10.0.1)\n",
      "Requirement already satisfied: responses<0.19 in c:\\users\\emman\\anaconda3\\lib\\site-packages (from datasets>=2.0.0->paddlenlp>=2.2.1->paddleocr) (0.18.0)\n",
      "Requirement already satisfied: aiohttp in c:\\users\\emman\\anaconda3\\lib\\site-packages (from datasets>=2.0.0->paddlenlp>=2.2.1->paddleocr) (3.8.3)\n",
      "Requirement already satisfied: fsspec[http]>=2021.11.1 in c:\\users\\emman\\anaconda3\\lib\\site-packages (from datasets>=2.0.0->paddlenlp>=2.2.1->paddleocr) (2022.11.0)\n",
      "Requirement already satisfied: xxhash in c:\\users\\emman\\anaconda3\\lib\\site-packages (from datasets>=2.0.0->paddlenlp>=2.2.1->paddleocr) (3.2.0)\n",
      "Requirement already satisfied: click>=5.1 in c:\\users\\emman\\anaconda3\\lib\\site-packages (from flask>=1.1.1->visualdl->paddleocr) (8.0.4)\n",
      "Requirement already satisfied: Jinja2>=2.10.1 in c:\\users\\emman\\anaconda3\\lib\\site-packages (from flask>=1.1.1->visualdl->paddleocr) (2.11.3)\n",
      "Requirement already satisfied: itsdangerous>=0.24 in c:\\users\\emman\\anaconda3\\lib\\site-packages (from flask>=1.1.1->visualdl->paddleocr) (2.0.1)\n",
      "Requirement already satisfied: Werkzeug>=0.15 in c:\\users\\emman\\anaconda3\\lib\\site-packages (from flask>=1.1.1->visualdl->paddleocr) (2.0.3)\n",
      "Requirement already satisfied: pytz in c:\\users\\emman\\anaconda3\\lib\\site-packages (from Flask-Babel>=1.0.0->visualdl->paddleocr) (2022.7)\n",
      "Requirement already satisfied: Babel>=2.3 in c:\\users\\emman\\anaconda3\\lib\\site-packages (from Flask-Babel>=1.0.0->visualdl->paddleocr) (2.11.0)\n",
      "Requirement already satisfied: typing-extensions>=3.7.4.3 in c:\\users\\emman\\anaconda3\\lib\\site-packages (from huggingface-hub>=0.11.1->paddlenlp>=2.2.1->paddleocr) (4.4.0)\n",
      "Requirement already satisfied: filelock in c:\\users\\emman\\anaconda3\\lib\\site-packages (from huggingface-hub>=0.11.1->paddlenlp>=2.2.1->paddleocr) (3.9.0)\n",
      "Requirement already satisfied: charset-normalizer<3,>=2 in c:\\users\\emman\\anaconda3\\lib\\site-packages (from requests->premailer->paddleocr) (2.0.4)\n",
      "Requirement already satisfied: urllib3<1.27,>=1.21.1 in c:\\users\\emman\\anaconda3\\lib\\site-packages (from requests->premailer->paddleocr) (1.26.13)\n",
      "Requirement already satisfied: certifi>=2017.4.17 in c:\\users\\emman\\anaconda3\\lib\\site-packages (from requests->premailer->paddleocr) (2022.12.7)\n",
      "Requirement already satisfied: idna<4,>=2.5 in c:\\users\\emman\\anaconda3\\lib\\site-packages (from requests->premailer->paddleocr) (3.4)\n",
      "Requirement already satisfied: pycryptodome>=3.8.0 in c:\\users\\emman\\appdata\\roaming\\python\\python39\\site-packages (from bce-python-sdk->visualdl->paddleocr) (3.16.0)\n",
      "Requirement already satisfied: future>=0.6.0 in c:\\users\\emman\\anaconda3\\lib\\site-packages (from bce-python-sdk->visualdl->paddleocr) (0.18.2)\n",
      "Requirement already satisfied: pydantic!=1.7,!=1.7.1,!=1.7.2,!=1.7.3,!=1.8,!=1.8.1,<2.0.0,>=1.6.2 in c:\\users\\emman\\anaconda3\\lib\\site-packages (from fastapi->paddlenlp>=2.2.1->paddleocr) (1.10.4)\n",
      "Requirement already satisfied: starlette==0.22.0 in c:\\users\\emman\\anaconda3\\lib\\site-packages (from fastapi->paddlenlp>=2.2.1->paddleocr) (0.22.0)\n",
      "Requirement already satisfied: anyio<5,>=3.4.0 in c:\\users\\emman\\anaconda3\\lib\\site-packages (from starlette==0.22.0->fastapi->paddlenlp>=2.2.1->paddleocr) (3.5.0)\n",
      "Requirement already satisfied: contourpy>=1.0.1 in c:\\users\\emman\\anaconda3\\lib\\site-packages (from matplotlib->imgaug==0.4.0->paddleocr) (1.0.5)\n",
      "Requirement already satisfied: pyparsing>=2.2.1 in c:\\users\\emman\\anaconda3\\lib\\site-packages (from matplotlib->imgaug==0.4.0->paddleocr) (3.0.9)\n",
      "Requirement already satisfied: kiwisolver>=1.0.1 in c:\\users\\emman\\anaconda3\\lib\\site-packages (from matplotlib->imgaug==0.4.0->paddleocr) (1.4.4)\n",
      "Requirement already satisfied: python-dateutil>=2.7 in c:\\users\\emman\\anaconda3\\lib\\site-packages (from matplotlib->imgaug==0.4.0->paddleocr) (2.8.2)\n",
      "Requirement already satisfied: cycler>=0.10 in c:\\users\\emman\\anaconda3\\lib\\site-packages (from matplotlib->imgaug==0.4.0->paddleocr) (0.11.0)\n",
      "Requirement already satisfied: fonttools>=4.22.0 in c:\\users\\emman\\anaconda3\\lib\\site-packages (from matplotlib->imgaug==0.4.0->paddleocr) (4.25.0)\n",
      "Requirement already satisfied: commonmark<0.10.0,>=0.9.0 in c:\\users\\emman\\anaconda3\\lib\\site-packages (from rich->paddlenlp>=2.2.1->paddleocr) (0.9.1)\n",
      "Requirement already satisfied: pygments<3.0.0,>=2.6.0 in c:\\users\\emman\\anaconda3\\lib\\site-packages (from rich->paddlenlp>=2.2.1->paddleocr) (2.11.2)\n",
      "Requirement already satisfied: scikit-learn>=0.21.3 in c:\\users\\emman\\anaconda3\\lib\\site-packages (from seqeval->paddlenlp>=2.2.1->paddleocr) (1.0.2)\n",
      "Requirement already satisfied: h11>=0.8 in c:\\users\\emman\\anaconda3\\lib\\site-packages (from uvicorn->paddlenlp>=2.2.1->paddleocr) (0.14.0)\n",
      "Requirement already satisfied: async-timeout<5.0,>=4.0.0a3 in c:\\users\\emman\\anaconda3\\lib\\site-packages (from aiohttp->datasets>=2.0.0->paddlenlp>=2.2.1->paddleocr) (4.0.2)\n",
      "Requirement already satisfied: frozenlist>=1.1.1 in c:\\users\\emman\\anaconda3\\lib\\site-packages (from aiohttp->datasets>=2.0.0->paddlenlp>=2.2.1->paddleocr) (1.3.3)\n",
      "Requirement already satisfied: yarl<2.0,>=1.0 in c:\\users\\emman\\anaconda3\\lib\\site-packages (from aiohttp->datasets>=2.0.0->paddlenlp>=2.2.1->paddleocr) (1.8.2)\n",
      "Requirement already satisfied: aiosignal>=1.1.2 in c:\\users\\emman\\anaconda3\\lib\\site-packages (from aiohttp->datasets>=2.0.0->paddlenlp>=2.2.1->paddleocr) (1.3.1)\n",
      "Requirement already satisfied: attrs>=17.3.0 in c:\\users\\emman\\anaconda3\\lib\\site-packages (from aiohttp->datasets>=2.0.0->paddlenlp>=2.2.1->paddleocr) (22.1.0)\n",
      "Requirement already satisfied: multidict<7.0,>=4.5 in c:\\users\\emman\\anaconda3\\lib\\site-packages (from aiohttp->datasets>=2.0.0->paddlenlp>=2.2.1->paddleocr) (6.0.4)\n",
      "Requirement already satisfied: MarkupSafe>=0.23 in c:\\users\\emman\\anaconda3\\lib\\site-packages (from Jinja2>=2.10.1->flask>=1.1.1->visualdl->paddleocr) (2.0.1)\n",
      "Requirement already satisfied: joblib>=0.11 in c:\\users\\emman\\anaconda3\\lib\\site-packages (from scikit-learn>=0.21.3->seqeval->paddlenlp>=2.2.1->paddleocr) (1.1.1)\n",
      "Requirement already satisfied: threadpoolctl>=2.0.0 in c:\\users\\emman\\anaconda3\\lib\\site-packages (from scikit-learn>=0.21.3->seqeval->paddlenlp>=2.2.1->paddleocr) (2.2.0)\n",
      "Requirement already satisfied: sniffio>=1.1 in c:\\users\\emman\\anaconda3\\lib\\site-packages (from anyio<5,>=3.4.0->starlette==0.22.0->fastapi->paddlenlp>=2.2.1->paddleocr) (1.2.0)\n"
     ]
    }
   ],
   "source": [
    "# Install paddle OCR\n",
    "!pip install paddleocr"
   ]
  },
  {
   "cell_type": "code",
   "execution_count": 4,
   "id": "acd71c16",
   "metadata": {},
   "outputs": [
    {
     "name": "stderr",
     "output_type": "stream",
     "text": [
      "fatal: destination path 'PaddleOCR' already exists and is not an empty directory.\n"
     ]
    }
   ],
   "source": [
    "!git clone https://github.com/PaddlePaddle/PaddleOCR"
   ]
  },
  {
   "cell_type": "code",
   "execution_count": 5,
   "id": "1be44b95",
   "metadata": {},
   "outputs": [
    {
     "name": "stderr",
     "output_type": "stream",
     "text": [
      "[2023-01-13 16:55:27,104] [   DEBUG] __init__.py:281 - matplotlib data path: C:\\Users\\emman\\anaconda3\\lib\\site-packages\\matplotlib\\mpl-data\n"
     ]
    },
    {
     "name": "stdout",
     "output_type": "stream",
     "text": [
      "[2023/01/13 16:55:27] matplotlib DEBUG: matplotlib data path: C:\\Users\\emman\\anaconda3\\lib\\site-packages\\matplotlib\\mpl-data\n"
     ]
    },
    {
     "name": "stderr",
     "output_type": "stream",
     "text": [
      "[2023-01-13 16:55:27,121] [   DEBUG] __init__.py:281 - CONFIGDIR=C:\\Users\\emman\\.matplotlib\n"
     ]
    },
    {
     "name": "stdout",
     "output_type": "stream",
     "text": [
      "[2023/01/13 16:55:27] matplotlib DEBUG: CONFIGDIR=C:\\Users\\emman\\.matplotlib\n"
     ]
    },
    {
     "name": "stderr",
     "output_type": "stream",
     "text": [
      "[2023-01-13 16:55:27,138] [   DEBUG] __init__.py:1456 - interactive is False\n"
     ]
    },
    {
     "name": "stdout",
     "output_type": "stream",
     "text": [
      "[2023/01/13 16:55:27] matplotlib DEBUG: interactive is False\n"
     ]
    },
    {
     "name": "stderr",
     "output_type": "stream",
     "text": [
      "[2023-01-13 16:55:27,143] [   DEBUG] __init__.py:1457 - platform is win32\n"
     ]
    },
    {
     "name": "stdout",
     "output_type": "stream",
     "text": [
      "[2023/01/13 16:55:27] matplotlib DEBUG: platform is win32\n"
     ]
    },
    {
     "name": "stderr",
     "output_type": "stream",
     "text": [
      "[2023-01-13 16:55:27,305] [   DEBUG] __init__.py:281 - CACHEDIR=C:\\Users\\emman\\.matplotlib\n"
     ]
    },
    {
     "name": "stdout",
     "output_type": "stream",
     "text": [
      "[2023/01/13 16:55:27] matplotlib DEBUG: CACHEDIR=C:\\Users\\emman\\.matplotlib\n"
     ]
    },
    {
     "name": "stderr",
     "output_type": "stream",
     "text": [
      "[2023-01-13 16:55:27,326] [   DEBUG] font_manager.py:1629 - Using fontManager instance from C:\\Users\\emman\\.matplotlib\\fontlist-v330.json\n"
     ]
    },
    {
     "name": "stdout",
     "output_type": "stream",
     "text": [
      "[2023/01/13 16:55:27] matplotlib.font_manager DEBUG: Using fontManager instance from C:\\Users\\emman\\.matplotlib\\fontlist-v330.json\n"
     ]
    }
   ],
   "source": [
    "from paddleocr import PaddleOCR, draw_ocr # main OCR dependencies\n",
    "from matplotlib import pyplot as plt # plot images\n",
    "import cv2 #opencv\n",
    "import os # folder directory navigation"
   ]
  },
  {
   "cell_type": "code",
   "execution_count": 6,
   "id": "6e9c991c",
   "metadata": {},
   "outputs": [
    {
     "name": "stdout",
     "output_type": "stream",
     "text": [
      "Namespace(help='==SUPPRESS==', use_gpu=False, ir_optim=True, use_tensorrt=False, min_subgraph_size=15, precision='fp32', gpu_mem=500, image_dir=None, det_algorithm='DB', det_model_dir='C:\\\\Users\\\\emman/.paddleocr/2.4\\\\ocr\\\\det\\\\en\\\\en_ppocr_mobile_v2.0_det_infer', det_limit_side_len=960, det_limit_type='max', det_db_thresh=0.3, det_db_box_thresh=0.6, det_db_unclip_ratio=1.5, max_batch_size=10, use_dilation=False, det_db_score_mode='fast', det_east_score_thresh=0.8, det_east_cover_thresh=0.1, det_east_nms_thresh=0.2, det_sast_score_thresh=0.5, det_sast_nms_thresh=0.2, det_sast_polygon=False, det_pse_thresh=0, det_pse_box_thresh=0.85, det_pse_min_area=16, det_pse_box_type='box', det_pse_scale=1, rec_algorithm='CRNN', rec_model_dir='C:\\\\Users\\\\emman/.paddleocr/2.4\\\\ocr\\\\rec\\\\en\\\\en_number_mobile_v2.0_rec_infer', rec_image_shape='3, 32, 320', rec_batch_num=6, max_text_length=25, rec_char_dict_path='C:\\\\Users\\\\emman\\\\anaconda3\\\\lib\\\\site-packages\\\\paddleocr\\\\ppocr\\\\utils\\\\en_dict.txt', use_space_char=True, vis_font_path='./doc/fonts/simfang.ttf', drop_score=0.5, e2e_algorithm='PGNet', e2e_model_dir=None, e2e_limit_side_len=768, e2e_limit_type='max', e2e_pgnet_score_thresh=0.5, e2e_char_dict_path='./ppocr/utils/ic15_dict.txt', e2e_pgnet_valid_set='totaltext', e2e_pgnet_mode='fast', use_angle_cls=False, cls_model_dir='C:\\\\Users\\\\emman/.paddleocr/2.4\\\\ocr\\\\cls\\\\ch_ppocr_mobile_v2.0_cls_infer', cls_image_shape='3, 48, 192', label_list=['0', '180'], cls_batch_num=6, cls_thresh=0.9, enable_mkldnn=False, cpu_threads=10, use_pdserving=False, warmup=False, draw_img_save_dir='./inference_results', save_crop_res=False, crop_res_save_dir='./output', use_mp=False, total_process_num=1, process_id=0, benchmark=False, save_log_path='./log_output/', show_log=True, use_onnx=False, output='./output', table_max_len=488, table_model_dir=None, table_char_type='en', table_char_dict_path=None, layout_path_model='lp://PubLayNet/ppyolov2_r50vd_dcn_365e_publaynet/config', model_name_or_path=None, max_seq_length=512, label_map_path='./vqa/labels/labels_ser.txt', mode='structure', lang='en', det=True, rec=True, type='ocr', ocr_version='PP-OCRv2', structure_version='STRUCTURE')\n"
     ]
    }
   ],
   "source": [
    "# Setup model\n",
    "ocr_model = PaddleOCR(lang='en')"
   ]
  },
  {
   "cell_type": "code",
   "execution_count": 11,
   "id": "fd92f40d",
   "metadata": {},
   "outputs": [],
   "source": [
    "img_path = os.path.join('.', 'images1.jpg')"
   ]
  },
  {
   "cell_type": "code",
   "execution_count": 12,
   "id": "abe9fd1f",
   "metadata": {},
   "outputs": [
    {
     "name": "stderr",
     "output_type": "stream",
     "text": [
      "[2023-01-13 16:59:38,155] [ WARNING] paddleocr.py:358 - Since the angle classifier is not initialized, the angle classifier will not be uesd during the forward process\n"
     ]
    },
    {
     "name": "stdout",
     "output_type": "stream",
     "text": [
      "[2023/01/13 16:59:38] root WARNING: Since the angle classifier is not initialized, the angle classifier will not be uesd during the forward process\n"
     ]
    },
    {
     "name": "stderr",
     "output_type": "stream",
     "text": [
      "[2023-01-13 16:59:38,516] [   DEBUG] predict_system.py:70 - dt_boxes num : 1, elapse : 0.26567816734313965\n"
     ]
    },
    {
     "name": "stdout",
     "output_type": "stream",
     "text": [
      "[2023/01/13 16:59:38] root DEBUG: dt_boxes num : 1, elapse : 0.26567816734313965\n"
     ]
    },
    {
     "name": "stderr",
     "output_type": "stream",
     "text": [
      "[2023-01-13 16:59:38,600] [   DEBUG] predict_system.py:89 - rec_res num  : 1, elapse : 0.06308364868164062\n"
     ]
    },
    {
     "name": "stdout",
     "output_type": "stream",
     "text": [
      "[2023/01/13 16:59:38] root DEBUG: rec_res num  : 1, elapse : 0.06308364868164062\n"
     ]
    }
   ],
   "source": [
    "result = ocr_model.ocr(img_path)"
   ]
  },
  {
   "cell_type": "code",
   "execution_count": 13,
   "id": "a24383ca",
   "metadata": {},
   "outputs": [
    {
     "data": {
      "text/plain": [
       "[[[[169.0, 53.0], [476.0, 87.0], [469.0, 148.0], [162.0, 113.0]],\n",
       "  ('RAB123C', 0.97412616)]]"
      ]
     },
     "execution_count": 13,
     "metadata": {},
     "output_type": "execute_result"
    }
   ],
   "source": [
    "result"
   ]
  },
  {
   "cell_type": "code",
   "execution_count": 14,
   "id": "bc8f0878",
   "metadata": {},
   "outputs": [
    {
     "name": "stdout",
     "output_type": "stream",
     "text": [
      "RAB123C\n"
     ]
    }
   ],
   "source": [
    "for res in result:\n",
    "    print(res[1][0]) "
   ]
  },
  {
   "cell_type": "code",
   "execution_count": null,
   "id": "a6cdf2d9",
   "metadata": {},
   "outputs": [],
   "source": []
  }
 ],
 "metadata": {
  "kernelspec": {
   "display_name": "Python 3 (ipykernel)",
   "language": "python",
   "name": "python3"
  },
  "language_info": {
   "codemirror_mode": {
    "name": "ipython",
    "version": 3
   },
   "file_extension": ".py",
   "mimetype": "text/x-python",
   "name": "python",
   "nbconvert_exporter": "python",
   "pygments_lexer": "ipython3",
   "version": "3.9.13"
  }
 },
 "nbformat": 4,
 "nbformat_minor": 5
}
